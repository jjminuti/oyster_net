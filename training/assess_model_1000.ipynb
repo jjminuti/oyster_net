{
 "cells": [
  {
   "cell_type": "markdown",
   "metadata": {},
   "source": [
    "## Assessing Accuracy\n",
    "\n",
    "#### Set Up Script"
   ]
  },
  {
   "cell_type": "code",
   "execution_count": 1,
   "metadata": {},
   "outputs": [
    {
     "name": "stderr",
     "output_type": "stream",
     "text": [
      "Using TensorFlow backend.\n"
     ]
    }
   ],
   "source": [
    "import os\n",
    "import sys\n",
    "import random\n",
    "import math\n",
    "import re\n",
    "import time\n",
    "import numpy as np\n",
    "import tensorflow as tf\n",
    "import matplotlib\n",
    "import matplotlib.pyplot as plt\n",
    "import matplotlib.patches as patches\n",
    "\n",
    "# Root directory of the project\n",
    "ROOT_DIR = os.path.abspath(\"../../\")\n",
    "\n",
    "# Root directory of MRCNN\n",
    "MASK_RCNN_DIR = os.path.abspath(\"../../Mask_RCNN/\")\n",
    "\n",
    "# Import Mask RCNN\n",
    "sys.path.append(MASK_RCNN_DIR)  # To find local version of the library\n",
    "from mrcnn import utils\n",
    "from mrcnn import visualize\n",
    "from mrcnn.visualize import display_images\n",
    "import mrcnn.model as modellib\n",
    "from mrcnn.model import log\n",
    "\n",
    "import oyster\n",
    "\n",
    "%matplotlib inline \n",
    "\n",
    "# Directory to save logs and trained model\n",
    "MODEL_DIR = os.path.join(ROOT_DIR, \"logs\")"
   ]
  },
  {
   "cell_type": "markdown",
   "metadata": {},
   "source": [
    "## Configurations"
   ]
  },
  {
   "cell_type": "code",
   "execution_count": 2,
   "metadata": {},
   "outputs": [],
   "source": [
    "config = oyster.OysterConfig()\n",
    "OYSTER_DIR = \"../data/1kx1k_dataset/\""
   ]
  },
  {
   "cell_type": "code",
   "execution_count": 3,
   "metadata": {},
   "outputs": [
    {
     "name": "stdout",
     "output_type": "stream",
     "text": [
      "\n",
      "Configurations:\n",
      "BACKBONE                       resnet101\n",
      "BACKBONE_STRIDES               [4, 8, 16, 32, 64]\n",
      "BATCH_SIZE                     1\n",
      "BBOX_STD_DEV                   [0.1 0.1 0.2 0.2]\n",
      "COMPUTE_BACKBONE_SHAPE         None\n",
      "DETECTION_MAX_INSTANCES        100\n",
      "DETECTION_MIN_CONFIDENCE       0.02\n",
      "DETECTION_NMS_THRESHOLD        0.3\n",
      "FPN_CLASSIF_FC_LAYERS_SIZE     1024\n",
      "GPU_COUNT                      1\n",
      "GRADIENT_CLIP_NORM             5.0\n",
      "IMAGES_PER_GPU                 1\n",
      "IMAGE_CHANNEL_COUNT            3\n",
      "IMAGE_MAX_DIM                  1024\n",
      "IMAGE_META_SIZE                14\n",
      "IMAGE_MIN_DIM                  800\n",
      "IMAGE_MIN_SCALE                0\n",
      "IMAGE_RESIZE_MODE              square\n",
      "IMAGE_SHAPE                    [1024 1024    3]\n",
      "LEARNING_MOMENTUM              0.9\n",
      "LEARNING_RATE                  0.001\n",
      "LOSS_WEIGHTS                   {'mrcnn_mask_loss': 2.0, 'mrcnn_bbox_loss': 1.0, 'rpn_bbox_loss': 1.0, 'mrcnn_class_loss': 1.0, 'rpn_class_loss': 1.0}\n",
      "MASK_POOL_SIZE                 14\n",
      "MASK_SHAPE                     [28, 28]\n",
      "MAX_GT_INSTANCES               100\n",
      "MEAN_PIXEL                     [123.7 116.8 103.9]\n",
      "MINI_MASK_SHAPE                (56, 56)\n",
      "NAME                           oyster\n",
      "NUM_CLASSES                    2\n",
      "POOL_SIZE                      7\n",
      "POST_NMS_ROIS_INFERENCE        1000\n",
      "POST_NMS_ROIS_TRAINING         2000\n",
      "PRE_NMS_LIMIT                  6000\n",
      "ROI_POSITIVE_RATIO             0.33\n",
      "RPN_ANCHOR_RATIOS              [0.5, 1, 2]\n",
      "RPN_ANCHOR_SCALES              (32, 64, 128, 256, 512)\n",
      "RPN_ANCHOR_STRIDE              2\n",
      "RPN_BBOX_STD_DEV               [0.1 0.1 0.2 0.2]\n",
      "RPN_NMS_THRESHOLD              0.7\n",
      "RPN_TRAIN_ANCHORS_PER_IMAGE    256\n",
      "STEPS_PER_EPOCH                103\n",
      "TOP_DOWN_PYRAMID_SIZE          256\n",
      "TRAIN_BN                       False\n",
      "TRAIN_ROIS_PER_IMAGE           32\n",
      "USE_MINI_MASK                  True\n",
      "USE_RPN_ROIS                   True\n",
      "VALIDATION_STEPS               50\n",
      "WEIGHT_DECAY                   0.0001\n",
      "\n",
      "\n"
     ]
    }
   ],
   "source": [
    "# Override the training configurations with a few\n",
    "# changes for inferencing.\n",
    "class InferenceConfig(config.__class__):\n",
    "    # Run detection on one image at a time\n",
    "    GPU_COUNT = 1\n",
    "    IMAGES_PER_GPU = 1\n",
    "\n",
    "config = InferenceConfig()\n",
    "config.display()"
   ]
  },
  {
   "cell_type": "markdown",
   "metadata": {},
   "source": [
    "## Notebook Preferences"
   ]
  },
  {
   "cell_type": "code",
   "execution_count": 5,
   "metadata": {},
   "outputs": [],
   "source": [
    "# Device to load the neural network on.\n",
    "# Useful if you're training a model on the same \n",
    "# machine, in which case use CPU and leave the\n",
    "# GPU for training.\n",
    "DEVICE = \"/gpu:2\"  # /cpu:0 or /gpu:0\n",
    "\n",
    "# Inspect the model in training or inference modes\n",
    "# values: 'inference' or 'training'\n",
    "# TODO: code for 'training' test mode not ready yet\n",
    "TEST_MODE = \"inference\""
   ]
  },
  {
   "cell_type": "code",
   "execution_count": 6,
   "metadata": {},
   "outputs": [],
   "source": [
    "def get_ax(rows=1, cols=1, size=16):\n",
    "    \"\"\"Return a Matplotlib Axes array to be used in\n",
    "    all visualizations in the notebook. Provide a\n",
    "    central point to control graph sizes.\n",
    "    \n",
    "    Adjust the size attribute to control how big to render images\n",
    "    \"\"\"\n",
    "    _, ax = plt.subplots(rows, cols, figsize=(size*cols, size*rows))\n",
    "    return ax"
   ]
  },
  {
   "cell_type": "markdown",
   "metadata": {},
   "source": [
    "### Load Dataset"
   ]
  },
  {
   "cell_type": "code",
   "execution_count": 7,
   "metadata": {},
   "outputs": [
    {
     "name": "stdout",
     "output_type": "stream",
     "text": [
      "Images: 163\n",
      "Classes: ['BG', 'oyster']\n"
     ]
    }
   ],
   "source": [
    "# Load validation dataset\n",
    "dataset_test = oyster.OysterDataset()\n",
    "dataset_test.load_oyster(OYSTER_DIR, \"test\")\n",
    "\n",
    "# Must call before using the dataset\n",
    "dataset_test.prepare()\n",
    "\n",
    "print(\"Images: {}\\nClasses: {}\".format(len(dataset_test.image_ids), dataset_test.class_names))"
   ]
  },
  {
   "cell_type": "markdown",
   "metadata": {},
   "source": [
    "### Load Model"
   ]
  },
  {
   "cell_type": "code",
   "execution_count": 8,
   "metadata": {},
   "outputs": [
    {
     "name": "stdout",
     "output_type": "stream",
     "text": [
      "WARNING:tensorflow:From /usr/local/lib/python3.5/dist-packages/tensorflow/python/ops/sparse_ops.py:1165: sparse_to_dense (from tensorflow.python.ops.sparse_ops) is deprecated and will be removed in a future version.\n",
      "Instructions for updating:\n",
      "Create a `tf.sparse.SparseTensor` and use `tf.sparse.to_dense` instead.\n",
      "Loading weights  ../logs/oyster20190122T0034/mask_rcnn_oyster_0083.h5\n",
      "Re-starting from epoch 83\n"
     ]
    }
   ],
   "source": [
    "# Create model in inference mode\n",
    "with tf.device(DEVICE):\n",
    "    model = modellib.MaskRCNN(mode=\"inference\", model_dir=MODEL_DIR,\n",
    "                              config=config)\n",
    "    \n",
    "# Set path to oyster weights file\n",
    "weights_path = '../data/models/1kx1k_model.h5'\n",
    "\n",
    "# Or, load the last model you trained\n",
    "#weights_path = model.find_last()\n",
    "\n",
    "# Load weights\n",
    "print(\"Loading weights \", weights_path)\n",
    "model.load_weights(weights_path, by_name=True)"
   ]
  },
  {
   "cell_type": "code",
   "execution_count": 9,
   "metadata": {},
   "outputs": [],
   "source": [
    "def compute_overlaps_masks(masks1, masks2):\n",
    "    \"\"\"Computes IoU overlaps between two sets of masks.\n",
    "    masks1, masks2: [Height, Width, instances]\n",
    "    \"\"\"\n",
    "        \n",
    "    # If either set of masks is empty return empty result\n",
    "    if masks2.shape[-1] == 0:\n",
    "        overlaps = 0\n",
    "        intersections = 0\n",
    "        area2 = 0\n",
    "        masks1 = np.reshape(masks1 > .5, (-1, masks1.shape[-1])).astype(np.float32)\n",
    "        area1 = np.sum(masks1, axis=0)\n",
    "        union = area2\n",
    "        return(overlaps, intersections, union, area1, area2)\n",
    "    if masks1.shape[-1] == 0:\n",
    "        return(-1)\n",
    "    \n",
    "    # flatten masks and compute their areas\n",
    "    masks1 = np.reshape(masks1 > .5, (-1, masks1.shape[-1])).astype(np.float32)\n",
    "    masks2 = np.reshape(masks2 > .5, (-1, masks2.shape[-1])).astype(np.float32)\n",
    "    \n",
    "    # some of the masks overlap which throws off the recall values so we just take the max of all of them\n",
    "    masks2 = np.amax(masks2, axis=1)\n",
    "    \n",
    "    area1 = np.sum(masks1, axis=0)\n",
    "    area2 = np.sum(masks2, axis=0)\n",
    "\n",
    "    # intersections and union\n",
    "    intersections = np.dot(masks1.T, masks2)\n",
    "    union = area1[:, None] + area2[None] - intersections\n",
    "    overlaps = intersections / union\n",
    "\n",
    "    return(overlaps, intersections, union, area1, area2)\n",
    "\n",
    "def calculate_metrics(dataset, prediction_threshold=0.5):\n",
    "    total_gt = 0  # total ground truth reefs\n",
    "    total_predicted = 0 # total predicted reefs\n",
    "    total_tp = 0 # total true positives\n",
    "    total_fp = 0 # total false positives\n",
    "    total_px = 0 # all pixels\n",
    "    total_fn = 0\n",
    "    \n",
    "    count =0\n",
    "\n",
    "    for image_id in dataset.image_ids:\n",
    "        if count > 50:\n",
    "            break\n",
    "        # Load image and ground truth data\n",
    "        image, image_meta, gt_class_id, gt_bbox, gt_mask =\\\n",
    "            modellib.load_image_gt(dataset, config,\n",
    "                                   image_id, use_mini_mask=False)\n",
    "        molded_images = np.expand_dims(modellib.mold_image(image, config), 0)\n",
    "        # Run object detection\n",
    "        results = model.detect([image], verbose=0)\n",
    "        r = results[0]\n",
    "        \n",
    "        # filter out masks that don't meet a prediction threshold\n",
    "        r['masks'] = np.array(r['masks'][:,:, r['scores'] > prediction_threshold])\n",
    "\n",
    "        overlap, intersection, union, gt_area, mask_area = compute_overlaps_masks(gt_mask, r['masks'])\n",
    "            \n",
    "        total_tp += np.sum(intersection)\n",
    "        total_predicted += np.sum(mask_area)\n",
    "        total_gt += np.sum(gt_mask)\n",
    "        \n",
    "        #print(np.sum(gt_mask), np.sum(intersection))\n",
    "\n",
    "        total_fp += np.sum(mask_area) - np.sum(intersection) \n",
    "\n",
    "        total_fn += np.sum(gt_mask) - np.sum(intersection) \n",
    "\n",
    "        length, width, instances = gt_mask.shape\n",
    "        total_px += length * width\n",
    "        count +=1\n",
    "        \n",
    "    total_tn = total_px - total_predicted\n",
    "    return(total_tp, total_fp, total_fn, total_tn, total_gt, total_predicted, total_px)\n",
    "\n",
    "def calc_prec_recall_acc(total_tp, total_fp, total_fn, total_tn):\n",
    "    precision = total_tp / (total_tp + total_fp)\n",
    "    recall = total_tp / (total_tp + total_fn)\n",
    "    acc = (total_tp + total_tn) / total_px\n",
    "    return(precision, recall, acc)"
   ]
  },
  {
   "cell_type": "code",
   "execution_count": 74,
   "metadata": {},
   "outputs": [],
   "source": [
    "total_tp, total_fp, total_fn, total_tn, total_gt, total_predicted, total_px = calculate_metrics(dataset_test, prediction_threshold=0.95)\n",
    "precision, recall, acc = calc_prec_recall_acc(total_tp, total_fp, total_fn, total_tn)"
   ]
  },
  {
   "cell_type": "code",
   "execution_count": 75,
   "metadata": {},
   "outputs": [
    {
     "data": {
      "text/plain": [
       "(5905753.0, 10426553.0, 675161.0, 37145070.0, 6580914, 16332306.0, 53477376)"
      ]
     },
     "execution_count": 75,
     "metadata": {},
     "output_type": "execute_result"
    }
   ],
   "source": [
    "total_tp, total_fp, total_fn, total_tn, total_gt, total_predicted, total_px"
   ]
  },
  {
   "cell_type": "code",
   "execution_count": 76,
   "metadata": {},
   "outputs": [
    {
     "data": {
      "text/plain": [
       "(0.36159945815367406, 0.8974061961605941, 0.8050287097108131)"
      ]
     },
     "execution_count": 76,
     "metadata": {},
     "output_type": "execute_result"
    }
   ],
   "source": [
    "precision, recall, acc"
   ]
  },
  {
   "cell_type": "code",
   "execution_count": 63,
   "metadata": {},
   "outputs": [],
   "source": [
    "total_tp, total_fp, total_fn, total_tn, total_gt, total_predicted, total_px = calculate_metrics(dataset_test, prediction_threshold=0.95)\n",
    "precision, recall, acc = calc_prec_recall_acc(total_tp, total_fp, total_fn, total_tn)"
   ]
  },
  {
   "cell_type": "code",
   "execution_count": 64,
   "metadata": {},
   "outputs": [
    {
     "data": {
      "text/plain": [
       "(15378072.0,\n",
       " 31483038.0,\n",
       " 3587594.0,\n",
       " 124056778.0,\n",
       " 18965666,\n",
       " 46861110.0,\n",
       " 170917888)"
      ]
     },
     "execution_count": 64,
     "metadata": {},
     "output_type": "execute_result"
    }
   ],
   "source": [
    "total_tp, total_fp, total_fn, total_tn, total_gt, total_predicted, total_px"
   ]
  },
  {
   "cell_type": "code",
   "execution_count": 65,
   "metadata": {},
   "outputs": [
    {
     "data": {
      "text/plain": [
       "(0.32816277719413817, 0.8108374364496348, 0.8158002163003559)"
      ]
     },
     "execution_count": 65,
     "metadata": {},
     "output_type": "execute_result"
    }
   ],
   "source": [
    "precision, recall, acc"
   ]
  },
  {
   "cell_type": "code",
   "execution_count": 59,
   "metadata": {},
   "outputs": [
    {
     "data": {
      "text/plain": [
       "(312666.0, 686774.0, 147460.0, 5292016.0, 460126, 999440.0, 6291456)"
      ]
     },
     "execution_count": 59,
     "metadata": {},
     "output_type": "execute_result"
    }
   ],
   "source": [
    "total_tp, total_fp, total_fn, total_tn, total_gt, total_predicted, total_px"
   ]
  },
  {
   "cell_type": "code",
   "execution_count": 48,
   "metadata": {},
   "outputs": [
    {
     "data": {
      "text/plain": [
       "array([0.991, 0.992, 0.993, 0.994, 0.995, 0.996, 0.997, 0.998, 0.999,\n",
       "       1.   ])"
      ]
     },
     "execution_count": 48,
     "metadata": {},
     "output_type": "execute_result"
    }
   ],
   "source": [
    "np.arange(0.991, 1.0, 0.001)"
   ]
  },
  {
   "cell_type": "code",
   "execution_count": 77,
   "metadata": {},
   "outputs": [
    {
     "data": {
      "text/plain": [
       "array([0.9999  , 0.999905, 0.99991 , 0.999915, 0.99992 , 0.999925,\n",
       "       0.99993 , 0.999935, 0.99994 , 0.999945, 0.99995 , 0.999955,\n",
       "       0.99996 , 0.999965, 0.99997 , 0.999975, 0.99998 , 0.999985,\n",
       "       0.99999 , 0.999995])"
      ]
     },
     "execution_count": 77,
     "metadata": {},
     "output_type": "execute_result"
    }
   ],
   "source": [
    "np.arange(0.9999, 1.0, 0.000005)"
   ]
  },
  {
   "cell_type": "code",
   "execution_count": 10,
   "metadata": {},
   "outputs": [],
   "source": [
    "pra_list_extd = []\n",
    "for confidence in np.arange(0.9999, 1.0, 0.000005):\n",
    "    total_tp, total_fp, total_fn, total_tn, total_gt, total_predicted, total_px = calculate_metrics(dataset_test, prediction_threshold=confidence)\n",
    "    precision, recall, acc = calc_prec_recall_acc(total_tp, total_fp, total_fn, total_tn)\n",
    "    pra_list_extd.append([precision, recall, acc])"
   ]
  },
  {
   "cell_type": "code",
   "execution_count": 11,
   "metadata": {},
   "outputs": [
    {
     "data": {
      "text/plain": [
       "[[0.28940885238435726, 0.8190219060029456, 0.7916780172609815],\n",
       " [0.29267387858171723, 0.8185603450750077, 0.7950641033696193],\n",
       " [0.29564480764747575, 0.8181486045679188, 0.798077246722053],\n",
       " [0.29880252555368514, 0.8176899317803201, 0.8012183320288565],\n",
       " [0.3031617820740539, 0.8175821680439185, 0.8053203657561657],\n",
       " [0.30580354746206856, 0.8174388440795921, 0.807767531451057],\n",
       " [0.3095044951248104, 0.8105397988446356, 0.8126732321346507],\n",
       " [0.31299404713003715, 0.8101253507059788, 0.8157921024397308],\n",
       " [0.3203835697038772, 0.8091215414293804, 0.8221970352472043],\n",
       " [0.32437122703779775, 0.7940970743679892, 0.8286551681219363],\n",
       " [0.3359881931930654, 0.790897736907383, 0.8380787980322745],\n",
       " [0.34849200547324133, 0.7815935928050648, 0.848630101073022],\n",
       " [0.36601936119546696, 0.777308495085739, 0.8605248133341471],\n",
       " [0.38532541175684265, 0.7575963957452638, 0.8748049642525467],\n",
       " [0.40755381644743477, 0.7549423752824286, 0.8863133823170382],\n",
       " [0.4417708103260365, 0.7166696420529118, 0.9061863282147575],\n",
       " [0.5092129142538765, 0.6796942253619517, 0.9321360868566176],\n",
       " [0.6068029443522888, 0.6087445308098689, 0.9591370937870998],\n",
       " [0.6725643931167583, 0.4930481559494698, 0.975133596682081],\n",
       " [0.7493124423187713, 0.2636561654485634, 0.9908622479906269]]"
      ]
     },
     "execution_count": 11,
     "metadata": {},
     "output_type": "execute_result"
    }
   ],
   "source": [
    "pra_list_extd"
   ]
  },
  {
   "cell_type": "code",
   "execution_count": 12,
   "metadata": {},
   "outputs": [
    {
     "name": "stderr",
     "output_type": "stream",
     "text": [
      "/usr/local/lib/python3.5/dist-packages/ipykernel_launcher.py:68: RuntimeWarning: invalid value encountered in long_scalars\n"
     ]
    }
   ],
   "source": [
    "pra_list = []\n",
    "for confidence in np.arange(0.0, 1.01, 0.01):\n",
    "    total_tp, total_fp, total_fn, total_tn, total_gt, total_predicted, total_px = calculate_metrics(dataset_test, prediction_threshold=confidence)\n",
    "    precision, recall, acc = calc_prec_recall_acc(total_tp, total_fp, total_fn, total_tn)\n",
    "    pra_list.append([precision, recall, acc])"
   ]
  },
  {
   "cell_type": "code",
   "execution_count": 48,
   "metadata": {},
   "outputs": [
    {
     "data": {
      "text/plain": [
       "array([0.991, 0.992, 0.993, 0.994, 0.995, 0.996, 0.997, 0.998, 0.999,\n",
       "       1.   ])"
      ]
     },
     "execution_count": 48,
     "metadata": {},
     "output_type": "execute_result"
    }
   ],
   "source": [
    "np.arange(0.991, 1.0, 0.001)"
   ]
  },
  {
   "cell_type": "code",
   "execution_count": 17,
   "metadata": {},
   "outputs": [
    {
     "data": {
      "text/plain": [
       "[<matplotlib.lines.Line2D at 0x7f7202868710>]"
      ]
     },
     "execution_count": 17,
     "metadata": {},
     "output_type": "execute_result"
    },
    {
     "data": {
      "image/png": "[encoded data removed]",
      "text/plain": [
       "<Figure size 432x288 with 1 Axes>"
      ]
     },
     "metadata": {
      "needs_background": "light"
     },
     "output_type": "display_data"
    }
   ],
   "source": [
    "fig, ax = plt.subplots()\n",
    "pra_array = np.array(pra_list_extd)\n",
    "ax.set_xlabel(\"Recall\")\n",
    "ax.set_ylabel(\"Precision\")\n",
    "ax.set_xlim(0.28,0.82)\n",
    "ax.set_ylim(0.2,.8)\n",
    "ax.plot([i[1] for i in pra_array], [i[0] for i in pra_array])"
   ]
  },
  {
   "cell_type": "code",
   "execution_count": 295,
   "metadata": {},
   "outputs": [
    {
     "name": "stdout",
     "output_type": "stream",
     "text": [
      "mAP:  1.0\n"
     ]
    }
   ],
   "source": [
    "#image_ids = np.random.choice(dataset_test.image_ids, 53)\n",
    "\n",
    "APs = []\n",
    "AP_ranges = []\n",
    "precisions_list = []\n",
    "recalls_list = []\n",
    "\n",
    "total_gt = 0  # total ground truth reefs\n",
    "total_predicted = 0 # total predicted reefs\n",
    "total_tp = 0 # total true positives\n",
    "\n",
    "for image_id in dataset_test.image_ids:\n",
    "    # Load image and ground truth data\n",
    "    image, image_meta, gt_class_id, gt_bbox, gt_mask =\\\n",
    "        modellib.load_image_gt(dataset_test, config,\n",
    "                               image_id, use_mini_mask=False)\n",
    "    molded_images = np.expand_dims(modellib.mold_image(image, config), 0)\n",
    "    # Run object detection\n",
    "    results = model.detect([image], verbose=0)\n",
    "    r = results[0]\n",
    "\n",
    "    # Compute AP\n",
    "    AP, precisions, recalls, overlaps =\\\n",
    "        utils.compute_ap(gt_bbox, gt_class_id, gt_mask,\n",
    "                         r[\"rois\"], r[\"class_ids\"], r[\"scores\"], r['masks'])\n",
    "    APs.append(AP)\n",
    "    precisions_list.append(precisions)\n",
    "    recalls_list.append(recalls)\n",
    "    \"\"\"\n",
    "    AP_range = utils.compute_ap_range(gt_bbox, gt_class_id, gt_mask,\n",
    "                     r[\"rois\"], r[\"class_ids\"], r[\"scores\"], r['masks'],\n",
    "                     iou_thresholds=None, verbose=0)\n",
    "    AP_ranges.append(AP_range)\n",
    "    \"\"\"\n",
    "    gt_match, pred_match, overlaps = utils.compute_matches(gt_bbox, gt_class_id, gt_mask,\n",
    "                    r[\"rois\"], r[\"class_ids\"], r[\"scores\"], r['masks'],\n",
    "                    iou_threshold=0.5, score_threshold=0.5)\n",
    "    \n",
    "    total_gt += gt_match.shape[0]  # total ground truth reefs\n",
    "    total_predicted += pred_match.shape[0] # total predicted reefs\n",
    "    total_tp += (pred_match > -1).sum() # total true positives\n",
    "    \n",
    "    break\n",
    "\n",
    "print(\"mAP: \", np.mean(APs))"
   ]
  },
  {
   "cell_type": "code",
   "execution_count": 39,
   "metadata": {},
   "outputs": [],
   "source": [
    "total_fp = total_predicted - total_tp\n",
    "total_fn = total_gt - total_tp\n",
    "\n",
    "# Precision is defined as the number of true positives over the number of true positives plus the number of false positives.\n",
    "\n",
    "precision = total_tp / (total_tp + total_fp)\n",
    "\n",
    "# Recall is defined as the number of true positives over the number of true positives plus the number of false negatives.\n",
    "recall = total_tp / (total_tp + total_fn )"
   ]
  }
 ],
 "metadata": {
  "kernelspec": {
   "display_name": "Python 3",
   "language": "python",
   "name": "python3"
  },
  "language_info": {
   "codemirror_mode": {
    "name": "ipython",
    "version": 3
   },
   "file_extension": ".py",
   "mimetype": "text/x-python",
   "name": "python",
   "nbconvert_exporter": "python",
   "pygments_lexer": "ipython3",
   "version": "3.5.2"
  }
 },
 "nbformat": 4,
 "nbformat_minor": 2
}
