{
 "cells": [
  {
   "cell_type": "markdown",
   "metadata": {},
   "source": [
    "## Assessing Accuracy\n",
    "\n",
    "#### Set Up Script"
   ]
  },
  {
   "cell_type": "code",
   "execution_count": 1,
   "metadata": {},
   "outputs": [
    {
     "name": "stderr",
     "output_type": "stream",
     "text": [
      "Using TensorFlow backend.\n"
     ]
    }
   ],
   "source": [
    "import os\n",
    "import sys\n",
    "import random\n",
    "import math\n",
    "import re\n",
    "import time\n",
    "import numpy as np\n",
    "import tensorflow as tf\n",
    "import matplotlib\n",
    "import matplotlib.pyplot as plt\n",
    "import matplotlib.patches as patches\n",
    "\n",
    "# Root directory of the project\n",
    "ROOT_DIR = os.path.abspath(\"../../\")\n",
    "\n",
    "# Root directory of MRCNN\n",
    "MASK_RCNN_DIR = os.path.abspath(\"../../Mask_RCNN/\")\n",
    "\n",
    "# Import Mask RCNN\n",
    "sys.path.append(MASK_RCNN_DIR)  # To find local version of the library\n",
    "from mrcnn import utils\n",
    "from mrcnn import visualize\n",
    "from mrcnn.visualize import display_images\n",
    "import mrcnn.model as modellib\n",
    "from mrcnn.model import log\n",
    "\n",
    "import oyster\n",
    "\n",
    "%matplotlib inline \n",
    "\n",
    "# Directory to save logs and trained model\n",
    "MODEL_DIR = os.path.join(ROOT_DIR, \"logs\")"
   ]
  },
  {
   "cell_type": "markdown",
   "metadata": {},
   "source": [
    "## Configurations"
   ]
  },
  {
   "cell_type": "code",
   "execution_count": 2,
   "metadata": {},
   "outputs": [],
   "source": [
    "config = oyster.OysterConfig()\n",
    "OYSTER_DIR = \"../data/2kx2k_dataset/\""
   ]
  },
  {
   "cell_type": "code",
   "execution_count": 3,
   "metadata": {},
   "outputs": [
    {
     "name": "stdout",
     "output_type": "stream",
     "text": [
      "\n",
      "Configurations:\n",
      "BACKBONE                       resnet101\n",
      "BACKBONE_STRIDES               [4, 8, 16, 32, 64]\n",
      "BATCH_SIZE                     1\n",
      "BBOX_STD_DEV                   [0.1 0.1 0.2 0.2]\n",
      "COMPUTE_BACKBONE_SHAPE         None\n",
      "DETECTION_MAX_INSTANCES        100\n",
      "DETECTION_MIN_CONFIDENCE       0.02\n",
      "DETECTION_NMS_THRESHOLD        0.3\n",
      "FPN_CLASSIF_FC_LAYERS_SIZE     1024\n",
      "GPU_COUNT                      1\n",
      "GRADIENT_CLIP_NORM             5.0\n",
      "IMAGES_PER_GPU                 1\n",
      "IMAGE_CHANNEL_COUNT            3\n",
      "IMAGE_MAX_DIM                  1024\n",
      "IMAGE_META_SIZE                14\n",
      "IMAGE_MIN_DIM                  800\n",
      "IMAGE_MIN_SCALE                0\n",
      "IMAGE_RESIZE_MODE              square\n",
      "IMAGE_SHAPE                    [1024 1024    3]\n",
      "LEARNING_MOMENTUM              0.9\n",
      "LEARNING_RATE                  0.001\n",
      "LOSS_WEIGHTS                   {'mrcnn_mask_loss': 2.0, 'mrcnn_class_loss': 1.0, 'rpn_class_loss': 1.0, 'rpn_bbox_loss': 1.0, 'mrcnn_bbox_loss': 1.0}\n",
      "MASK_POOL_SIZE                 14\n",
      "MASK_SHAPE                     [28, 28]\n",
      "MAX_GT_INSTANCES               100\n",
      "MEAN_PIXEL                     [123.7 116.8 103.9]\n",
      "MINI_MASK_SHAPE                (56, 56)\n",
      "NAME                           oyster\n",
      "NUM_CLASSES                    2\n",
      "POOL_SIZE                      7\n",
      "POST_NMS_ROIS_INFERENCE        1000\n",
      "POST_NMS_ROIS_TRAINING         2000\n",
      "PRE_NMS_LIMIT                  6000\n",
      "ROI_POSITIVE_RATIO             0.33\n",
      "RPN_ANCHOR_RATIOS              [0.5, 1, 2]\n",
      "RPN_ANCHOR_SCALES              (32, 64, 128, 256, 512)\n",
      "RPN_ANCHOR_STRIDE              2\n",
      "RPN_BBOX_STD_DEV               [0.1 0.1 0.2 0.2]\n",
      "RPN_NMS_THRESHOLD              0.7\n",
      "RPN_TRAIN_ANCHORS_PER_IMAGE    256\n",
      "STEPS_PER_EPOCH                103\n",
      "TOP_DOWN_PYRAMID_SIZE          256\n",
      "TRAIN_BN                       False\n",
      "TRAIN_ROIS_PER_IMAGE           32\n",
      "USE_MINI_MASK                  True\n",
      "USE_RPN_ROIS                   True\n",
      "VALIDATION_STEPS               50\n",
      "WEIGHT_DECAY                   0.0001\n",
      "\n",
      "\n"
     ]
    }
   ],
   "source": [
    "# Override the training configurations with a few\n",
    "# changes for inferencing.\n",
    "class InferenceConfig(config.__class__):\n",
    "    # Run detection on one image at a time\n",
    "    GPU_COUNT = 1\n",
    "    IMAGES_PER_GPU = 1\n",
    "\n",
    "config = InferenceConfig()\n",
    "config.display()"
   ]
  },
  {
   "cell_type": "markdown",
   "metadata": {},
   "source": [
    "## Notebook Preferences"
   ]
  },
  {
   "cell_type": "code",
   "execution_count": 4,
   "metadata": {},
   "outputs": [],
   "source": [
    "# Device to load the neural network on.\n",
    "# Useful if you're training a model on the same \n",
    "# machine, in which case use CPU and leave the\n",
    "# GPU for training.\n",
    "DEVICE = \"/cpu:0\"  # /cpu:0 or /gpu:0\n",
    "\n",
    "# Inspect the model in training or inference modes\n",
    "# values: 'inference' or 'training'\n",
    "# TODO: code for 'training' test mode not ready yet\n",
    "TEST_MODE = \"inference\""
   ]
  },
  {
   "cell_type": "code",
   "execution_count": 5,
   "metadata": {},
   "outputs": [],
   "source": [
    "def get_ax(rows=1, cols=1, size=16):\n",
    "    \"\"\"Return a Matplotlib Axes array to be used in\n",
    "    all visualizations in the notebook. Provide a\n",
    "    central point to control graph sizes.\n",
    "    \n",
    "    Adjust the size attribute to control how big to render images\n",
    "    \"\"\"\n",
    "    _, ax = plt.subplots(rows, cols, figsize=(size*cols, size*rows))\n",
    "    return ax"
   ]
  },
  {
   "cell_type": "markdown",
   "metadata": {},
   "source": [
    "### Load Dataset"
   ]
  },
  {
   "cell_type": "code",
   "execution_count": 6,
   "metadata": {},
   "outputs": [
    {
     "name": "stdout",
     "output_type": "stream",
     "text": [
      "Images: 66\n",
      "Classes: ['BG', 'oyster']\n"
     ]
    }
   ],
   "source": [
    "# Load validation dataset\n",
    "dataset_test = oyster.OysterDataset()\n",
    "dataset_test.load_oyster(OYSTER_DIR, \"test\")\n",
    "\n",
    "# Must call before using the dataset\n",
    "dataset_test.prepare()\n",
    "\n",
    "print(\"Images: {}\\nClasses: {}\".format(len(dataset_test.image_ids), dataset_test.class_names))"
   ]
  },
  {
   "cell_type": "markdown",
   "metadata": {},
   "source": [
    "### Load Model"
   ]
  },
  {
   "cell_type": "code",
   "execution_count": 7,
   "metadata": {},
   "outputs": [
    {
     "name": "stdout",
     "output_type": "stream",
     "text": [
      "WARNING:tensorflow:From /usr/local/lib/python3.5/dist-packages/tensorflow/python/ops/sparse_ops.py:1165: sparse_to_dense (from tensorflow.python.ops.sparse_ops) is deprecated and will be removed in a future version.\n",
      "Instructions for updating:\n",
      "Create a `tf.sparse.SparseTensor` and use `tf.sparse.to_dense` instead.\n",
      "Loading weights  /host/Code/Mask_RCNN/logs/oyster20190109T1451/mask_rcnn_oyster_0180.h5\n",
      "Re-starting from epoch 180\n"
     ]
    }
   ],
   "source": [
    "# Create model in inference mode\n",
    "with tf.device(DEVICE):\n",
    "    model = modellib.MaskRCNN(mode=\"inference\", model_dir=MODEL_DIR,\n",
    "                              config=config)\n",
    "    \n",
    "# Set path to oyster weights file\n",
    "weights_path = '../data/models/2kx2k_model.h5'\n",
    "\n",
    "# Or, load the last model you trained\n",
    "#weights_path = model.find_last()\n",
    "\n",
    "# Load weights\n",
    "print(\"Loading weights \", weights_path)\n",
    "model.load_weights(weights_path, by_name=True)"
   ]
  },
  {
   "cell_type": "code",
   "execution_count": 8,
   "metadata": {},
   "outputs": [],
   "source": [
    "def compute_overlaps_masks(masks1, masks2):\n",
    "    \"\"\"Computes IoU overlaps between two sets of masks.\n",
    "    masks1, masks2: [Height, Width, instances]\n",
    "    \"\"\"\n",
    "        \n",
    "    # If either set of masks is empty return empty result\n",
    "    if masks2.shape[-1] == 0:\n",
    "        overlaps = 0\n",
    "        intersections = 0\n",
    "        area2 = 0\n",
    "        masks1 = np.reshape(masks1 > .5, (-1, masks1.shape[-1])).astype(np.float32)\n",
    "        area1 = np.sum(masks1, axis=0)\n",
    "        union = area2\n",
    "        return(overlaps, intersections, union, area1, area2)\n",
    "    if masks1.shape[-1] == 0:\n",
    "        return(-1)\n",
    "    # flatten masks and compute their areas\n",
    "    masks1 = np.reshape(masks1 > .5, (-1, masks1.shape[-1])).astype(np.float32)\n",
    "    masks2 = np.reshape(masks2 > .5, (-1, masks2.shape[-1])).astype(np.float32)\n",
    "    area1 = np.sum(masks1, axis=0)\n",
    "    area2 = np.sum(masks2, axis=0)\n",
    "\n",
    "    # intersections and union\n",
    "    intersections = np.dot(masks1.T, masks2)\n",
    "    union = area1[:, None] + area2[None, :] - intersections\n",
    "    overlaps = intersections / union\n",
    "\n",
    "    return(overlaps, intersections, union, area1, area2)\n",
    "\n",
    "def calculate_metrics(dataset, prediction_threshold=0.5):\n",
    "    total_gt = 0  # total ground truth reefs\n",
    "    total_predicted = 0 # total predicted reefs\n",
    "    total_tp = 0 # total true positives\n",
    "    total_fp = 0 # total false positives\n",
    "    total_px = 0 # all pixels\n",
    "    total_fn = 0\n",
    "\n",
    "    for image_id in dataset.image_ids:\n",
    "        # Load image and ground truth data\n",
    "        image, image_meta, gt_class_id, gt_bbox, gt_mask =\\\n",
    "            modellib.load_image_gt(dataset, config,\n",
    "                                   image_id, use_mini_mask=False)\n",
    "        molded_images = np.expand_dims(modellib.mold_image(image, config), 0)\n",
    "        # Run object detection\n",
    "        results = model.detect([image], verbose=0)\n",
    "        r = results[0]\n",
    "        \n",
    "        # filter out masks that don't meet a prediction threshold\n",
    "        r['masks'] = np.array(r['masks'][:,:, r['scores'] > prediction_threshold])\n",
    "\n",
    "        overlap, intersection, union, gt_area, mask_area = compute_overlaps_masks(gt_mask, r['masks'])\n",
    "            \n",
    "        total_tp += np.sum(intersection)\n",
    "        total_predicted += np.sum(mask_area)\n",
    "        total_gt += np.sum(gt_mask)\n",
    "\n",
    "        total_fp += np.sum(mask_area) - np.sum(intersection) \n",
    "\n",
    "        total_fn += np.sum(gt_mask) - np.sum(intersection) \n",
    "\n",
    "        length, width, instances = gt_mask.shape\n",
    "        total_px += length * width\n",
    "        \n",
    "    total_tn = total_px - total_predicted\n",
    "    return(total_tp, total_fp, total_fn, total_tn, total_gt, total_predicted, total_px)\n",
    "\n",
    "def calc_prec_recall_acc(total_tp, total_fp, total_fn, total_tn):\n",
    "    precision = total_tp / (total_tp + total_fp)\n",
    "    recall = total_tp / (total_tp + total_fn)\n",
    "    acc = (total_tp + total_tn) / total_px\n",
    "    return(precision, recall, acc)"
   ]
  },
  {
   "cell_type": "code",
   "execution_count": 9,
   "metadata": {},
   "outputs": [],
   "source": [
    "total_tp, total_fp, total_fn, total_tn, total_gt, total_predicted, total_px = calculate_metrics(dataset_test, prediction_threshold=0.98)\n",
    "precision, recall, acc = calc_prec_recall_acc(total_tp, total_fp, total_fn, total_tn)"
   ]
  },
  {
   "cell_type": "code",
   "execution_count": 10,
   "metadata": {},
   "outputs": [
    {
     "data": {
      "text/plain": [
       "(4847769, 5230570.0)"
      ]
     },
     "execution_count": 10,
     "metadata": {},
     "output_type": "execute_result"
    }
   ],
   "source": [
    "total_gt, total_predicted"
   ]
  },
  {
   "cell_type": "code",
   "execution_count": 49,
   "metadata": {},
   "outputs": [
    {
     "name": "stderr",
     "output_type": "stream",
     "text": [
      "/usr/local/lib/python3.5/dist-packages/ipykernel_launcher.py:68: RuntimeWarning: invalid value encountered in long_scalars\n"
     ]
    }
   ],
   "source": [
    "pra_list_extd = []\n",
    "for confidence in np.arange(0.991, 1.000, 0.001):\n",
    "    total_tp, total_fp, total_fn, total_tn, total_gt, total_predicted, total_px = calculate_metrics(dataset_test, prediction_threshold=confidence)\n",
    "    precision, recall, acc = calc_prec_recall_acc(total_tp, total_fp, total_fn, total_tn)\n",
    "    pra_list_extd.append([precision, recall, acc])"
   ]
  },
  {
   "cell_type": "code",
   "execution_count": 24,
   "metadata": {},
   "outputs": [
    {
     "name": "stderr",
     "output_type": "stream",
     "text": [
      "/usr/local/lib/python3.5/dist-packages/ipykernel_launcher.py:68: RuntimeWarning: invalid value encountered in long_scalars\n"
     ]
    }
   ],
   "source": [
    "pra_list = []\n",
    "for confidence in np.arange(0.0, 1.01, 0.01):\n",
    "    total_tp, total_fp, total_fn, total_tn, total_gt, total_predicted, total_px = calculate_metrics(dataset_test, prediction_threshold=confidence)\n",
    "    precision, recall, acc = calc_prec_recall_acc(total_tp, total_fp, total_fn, total_tn)\n",
    "    pra_list.append([precision, recall, acc])"
   ]
  },
  {
   "cell_type": "code",
   "execution_count": 50,
   "metadata": {},
   "outputs": [
    {
     "data": {
      "text/plain": [
       "[<matplotlib.lines.Line2D at 0x7faa4f7d4ba8>]"
      ]
     },
     "execution_count": 50,
     "metadata": {},
     "output_type": "execute_result"
    },
    {
     "data": {
      "image/png": "[encoded data removed]",
      "text/plain": [
       "<Figure size 432x288 with 1 Axes>"
      ]
     },
     "metadata": {
      "needs_background": "light"
     },
     "output_type": "display_data"
    }
   ],
   "source": [
    "fig, ax = plt.subplots()\n",
    "pra_array = np.array(pra_list + pra_list_extd)\n",
    "ax.set_xlabel(\"Recall\")\n",
    "ax.set_ylabel(\"Precision\")\n",
    "ax.set_xlim(0.75,0.88)\n",
    "ax.set_ylim(0.4,0.8)\n",
    "ax.plot([i[1] for i in pra_array], [i[0] for i in pra_array])"
   ]
  },
  {
   "cell_type": "code",
   "execution_count": 10,
   "metadata": {},
   "outputs": [
    {
     "data": {
      "text/plain": [
       "[<matplotlib.lines.Line2D at 0x7f2f522eea90>]"
      ]
     },
     "execution_count": 10,
     "metadata": {},
     "output_type": "execute_result"
    },
    {
     "data": {
      "image/png": "[encoded data removed]",
      "text/plain": [
       "<Figure size 432x288 with 1 Axes>"
      ]
     },
     "metadata": {
      "needs_background": "light"
     },
     "output_type": "display_data"
    }
   ],
   "source": [
    "import matplotlib.pyplot as plt\n",
    "import numpy as np\n",
    "fig, ax = plt.subplots()\n",
    "pra_array = np.array(pra_list_extd)\n",
    "ax.set_xlabel(\"Recall\")\n",
    "ax.set_ylabel(\"Precision\")\n",
    "ax.set_xlim(0.6,.86)\n",
    "ax.set_ylim(0.4,.9)\n",
    "ax.plot([i[1] for i in pra_array], [i[0] for i in pra_array])"
   ]
  },
  {
   "cell_type": "code",
   "execution_count": 35,
   "metadata": {},
   "outputs": [
    {
     "data": {
      "text/plain": [
       "[<matplotlib.lines.Line2D at 0x7faa4f9cafd0>]"
      ]
     },
     "execution_count": 35,
     "metadata": {},
     "output_type": "execute_result"
    },
    {
     "data": {
      "image/png": "[encoded data removed]",
      "text/plain": [
       "<Figure size 432x288 with 1 Axes>"
      ]
     },
     "metadata": {
      "needs_background": "light"
     },
     "output_type": "display_data"
    }
   ],
   "source": [
    "fig, ax = plt.subplots()\n",
    "pra_array = np.array(pra_list)\n",
    "ax.set_xlabel(\"Recall\")\n",
    "ax.set_ylabel(\"Precision\")\n",
    "ax.set_xlim(0.75,0.88)\n",
    "ax.set_ylim(0.4,0.8)\n",
    "ax.plot([i[1] for i in pra_array], [i[0] for i in pra_array])"
   ]
  },
  {
   "cell_type": "code",
   "execution_count": 295,
   "metadata": {},
   "outputs": [
    {
     "name": "stdout",
     "output_type": "stream",
     "text": [
      "mAP:  1.0\n"
     ]
    }
   ],
   "source": [
    "#image_ids = np.random.choice(dataset_test.image_ids, 53)\n",
    "\n",
    "APs = []\n",
    "AP_ranges = []\n",
    "precisions_list = []\n",
    "recalls_list = []\n",
    "\n",
    "total_gt = 0  # total ground truth reefs\n",
    "total_predicted = 0 # total predicted reefs\n",
    "total_tp = 0 # total true positives\n",
    "\n",
    "for image_id in dataset_test.image_ids:\n",
    "    # Load image and ground truth data\n",
    "    image, image_meta, gt_class_id, gt_bbox, gt_mask =\\\n",
    "        modellib.load_image_gt(dataset_test, config,\n",
    "                               image_id, use_mini_mask=False)\n",
    "    molded_images = np.expand_dims(modellib.mold_image(image, config), 0)\n",
    "    # Run object detection\n",
    "    results = model.detect([image], verbose=0)\n",
    "    r = results[0]\n",
    "\n",
    "    # Compute AP\n",
    "    AP, precisions, recalls, overlaps =\\\n",
    "        utils.compute_ap(gt_bbox, gt_class_id, gt_mask,\n",
    "                         r[\"rois\"], r[\"class_ids\"], r[\"scores\"], r['masks'])\n",
    "    APs.append(AP)\n",
    "    precisions_list.append(precisions)\n",
    "    recalls_list.append(recalls)\n",
    "    \"\"\"\n",
    "    AP_range = utils.compute_ap_range(gt_bbox, gt_class_id, gt_mask,\n",
    "                     r[\"rois\"], r[\"class_ids\"], r[\"scores\"], r['masks'],\n",
    "                     iou_thresholds=None, verbose=0)\n",
    "    AP_ranges.append(AP_range)\n",
    "    \"\"\"\n",
    "    gt_match, pred_match, overlaps = utils.compute_matches(gt_bbox, gt_class_id, gt_mask,\n",
    "                    r[\"rois\"], r[\"class_ids\"], r[\"scores\"], r['masks'],\n",
    "                    iou_threshold=0.5, score_threshold=0.5)\n",
    "    \n",
    "    total_gt += gt_match.shape[0]  # total ground truth reefs\n",
    "    total_predicted += pred_match.shape[0] # total predicted reefs\n",
    "    total_tp += (pred_match > -1).sum() # total true positives\n",
    "    \n",
    "    break\n",
    "\n",
    "print(\"mAP: \", np.mean(APs))"
   ]
  },
  {
   "cell_type": "code",
   "execution_count": 38,
   "metadata": {},
   "outputs": [
    {
     "data": {
      "text/plain": [
       "(262, 373, 167)"
      ]
     },
     "execution_count": 38,
     "metadata": {},
     "output_type": "execute_result"
    }
   ],
   "source": [
    "total_gt, total_predicted, total_tp"
   ]
  },
  {
   "cell_type": "code",
   "execution_count": 39,
   "metadata": {},
   "outputs": [],
   "source": [
    "total_fp = total_predicted - total_tp\n",
    "total_fn = total_gt - total_tp\n",
    "\n",
    "# Precision is defined as the number of true positives over the number of true positives plus the number of false positives.\n",
    "\n",
    "precision = total_tp / (total_tp + total_fp)\n",
    "\n",
    "# Recall is defined as the number of true positives over the number of true positives plus the number of false negatives.\n",
    "recall = total_tp / (total_tp + total_fn )"
   ]
  }
 ],
 "metadata": {
  "kernelspec": {
   "display_name": "Python 3",
   "language": "python",
   "name": "python3"
  },
  "language_info": {
   "codemirror_mode": {
    "name": "ipython",
    "version": 3
   },
   "file_extension": ".py",
   "mimetype": "text/x-python",
   "name": "python",
   "nbconvert_exporter": "python",
   "pygments_lexer": "ipython3",
   "version": "3.5.2"
  }
 },
 "nbformat": 4,
 "nbformat_minor": 2
}
