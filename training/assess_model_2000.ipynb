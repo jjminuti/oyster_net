{
 "cells": [
  {
   "cell_type": "markdown",
   "metadata": {},
   "source": [
    "## Assessing Accuracy\n",
    "\n",
    "#### Set Up Script"
   ]
  },
  {
   "cell_type": "code",
   "execution_count": 1,
   "metadata": {},
   "outputs": [
    {
     "name": "stderr",
     "output_type": "stream",
     "text": [
      "Using TensorFlow backend.\n"
     ]
    }
   ],
   "source": [
    "import os\n",
    "import sys\n",
    "import random\n",
    "import math\n",
    "import re\n",
    "import time\n",
    "import numpy as np\n",
    "import tensorflow as tf\n",
    "import matplotlib\n",
    "import matplotlib.pyplot as plt\n",
    "import matplotlib.patches as patches\n",
    "\n",
    "# Root directory of the project\n",
    "ROOT_DIR = os.path.abspath(\"../../\")\n",
    "\n",
    "# Root directory of MRCNN\n",
    "MASK_RCNN_DIR = os.path.abspath(\"../../Mask_RCNN/\")\n",
    "\n",
    "# Import Mask RCNN\n",
    "sys.path.append(MASK_RCNN_DIR)  # To find local version of the library\n",
    "from mrcnn import utils\n",
    "from mrcnn import visualize\n",
    "from mrcnn.visualize import display_images\n",
    "import mrcnn.model as modellib\n",
    "from mrcnn.model import log\n",
    "\n",
    "import oyster\n",
    "\n",
    "%matplotlib inline \n",
    "\n",
    "# Directory to save logs and trained model\n",
    "MODEL_DIR = os.path.join(ROOT_DIR, \"logs\")"
   ]
  },
  {
   "cell_type": "markdown",
   "metadata": {},
   "source": [
    "## Configurations"
   ]
  },
  {
   "cell_type": "code",
   "execution_count": 2,
   "metadata": {},
   "outputs": [],
   "source": [
    "config = oyster.OysterConfig()\n",
    "OYSTER_DIR = \"../data/2kx2k_dataset/\""
   ]
  },
  {
   "cell_type": "code",
   "execution_count": 3,
   "metadata": {},
   "outputs": [
    {
     "name": "stdout",
     "output_type": "stream",
     "text": [
      "\n",
      "Configurations:\n",
      "BACKBONE                       resnet101\n",
      "BACKBONE_STRIDES               [4, 8, 16, 32, 64]\n",
      "BATCH_SIZE                     1\n",
      "BBOX_STD_DEV                   [0.1 0.1 0.2 0.2]\n",
      "COMPUTE_BACKBONE_SHAPE         None\n",
      "DETECTION_MAX_INSTANCES        100\n",
      "DETECTION_MIN_CONFIDENCE       0.02\n",
      "DETECTION_NMS_THRESHOLD        0.3\n",
      "FPN_CLASSIF_FC_LAYERS_SIZE     1024\n",
      "GPU_COUNT                      1\n",
      "GRADIENT_CLIP_NORM             5.0\n",
      "IMAGES_PER_GPU                 1\n",
      "IMAGE_CHANNEL_COUNT            3\n",
      "IMAGE_MAX_DIM                  1024\n",
      "IMAGE_META_SIZE                14\n",
      "IMAGE_MIN_DIM                  800\n",
      "IMAGE_MIN_SCALE                0\n",
      "IMAGE_RESIZE_MODE              square\n",
      "IMAGE_SHAPE                    [1024 1024    3]\n",
      "LEARNING_MOMENTUM              0.9\n",
      "LEARNING_RATE                  0.001\n",
      "LOSS_WEIGHTS                   {'mrcnn_mask_loss': 2.0, 'mrcnn_class_loss': 1.0, 'rpn_class_loss': 1.0, 'rpn_bbox_loss': 1.0, 'mrcnn_bbox_loss': 1.0}\n",
      "MASK_POOL_SIZE                 14\n",
      "MASK_SHAPE                     [28, 28]\n",
      "MAX_GT_INSTANCES               100\n",
      "MEAN_PIXEL                     [123.7 116.8 103.9]\n",
      "MINI_MASK_SHAPE                (56, 56)\n",
      "NAME                           oyster\n",
      "NUM_CLASSES                    2\n",
      "POOL_SIZE                      7\n",
      "POST_NMS_ROIS_INFERENCE        1000\n",
      "POST_NMS_ROIS_TRAINING         2000\n",
      "PRE_NMS_LIMIT                  6000\n",
      "ROI_POSITIVE_RATIO             0.33\n",
      "RPN_ANCHOR_RATIOS              [0.5, 1, 2]\n",
      "RPN_ANCHOR_SCALES              (32, 64, 128, 256, 512)\n",
      "RPN_ANCHOR_STRIDE              2\n",
      "RPN_BBOX_STD_DEV               [0.1 0.1 0.2 0.2]\n",
      "RPN_NMS_THRESHOLD              0.7\n",
      "RPN_TRAIN_ANCHORS_PER_IMAGE    256\n",
      "STEPS_PER_EPOCH                103\n",
      "TOP_DOWN_PYRAMID_SIZE          256\n",
      "TRAIN_BN                       False\n",
      "TRAIN_ROIS_PER_IMAGE           32\n",
      "USE_MINI_MASK                  True\n",
      "USE_RPN_ROIS                   True\n",
      "VALIDATION_STEPS               50\n",
      "WEIGHT_DECAY                   0.0001\n",
      "\n",
      "\n"
     ]
    }
   ],
   "source": [
    "# Override the training configurations with a few\n",
    "# changes for inferencing.\n",
    "class InferenceConfig(config.__class__):\n",
    "    # Run detection on one image at a time\n",
    "    GPU_COUNT = 1\n",
    "    IMAGES_PER_GPU = 1\n",
    "\n",
    "config = InferenceConfig()\n",
    "config.display()"
   ]
  },
  {
   "cell_type": "markdown",
   "metadata": {},
   "source": [
    "## Notebook Preferences"
   ]
  },
  {
   "cell_type": "code",
   "execution_count": 4,
   "metadata": {},
   "outputs": [],
   "source": [
    "# Device to load the neural network on.\n",
    "# Useful if you're training a model on the same \n",
    "# machine, in which case use CPU and leave the\n",
    "# GPU for training.\n",
    "DEVICE = \"/cpu:0\"  # /cpu:0 or /gpu:0\n",
    "\n",
    "# Inspect the model in training or inference modes\n",
    "# values: 'inference' or 'training'\n",
    "# TODO: code for 'training' test mode not ready yet\n",
    "TEST_MODE = \"inference\""
   ]
  },
  {
   "cell_type": "code",
   "execution_count": 5,
   "metadata": {},
   "outputs": [],
   "source": [
    "def get_ax(rows=1, cols=1, size=16):\n",
    "    \"\"\"Return a Matplotlib Axes array to be used in\n",
    "    all visualizations in the notebook. Provide a\n",
    "    central point to control graph sizes.\n",
    "    \n",
    "    Adjust the size attribute to control how big to render images\n",
    "    \"\"\"\n",
    "    _, ax = plt.subplots(rows, cols, figsize=(size*cols, size*rows))\n",
    "    return ax"
   ]
  },
  {
   "cell_type": "markdown",
   "metadata": {},
   "source": [
    "### Load Dataset"
   ]
  },
  {
   "cell_type": "code",
   "execution_count": 6,
   "metadata": {},
   "outputs": [
    {
     "name": "stdout",
     "output_type": "stream",
     "text": [
      "Images: 66\n",
      "Classes: ['BG', 'oyster']\n"
     ]
    }
   ],
   "source": [
    "# Load validation dataset\n",
    "dataset_test = oyster.OysterDataset()\n",
    "dataset_test.load_oyster(OYSTER_DIR, \"test\")\n",
    "\n",
    "# Must call before using the dataset\n",
    "dataset_test.prepare()\n",
    "\n",
    "print(\"Images: {}\\nClasses: {}\".format(len(dataset_test.image_ids), dataset_test.class_names))"
   ]
  },
  {
   "cell_type": "markdown",
   "metadata": {},
   "source": [
    "### Load Model"
   ]
  },
  {
   "cell_type": "code",
   "execution_count": 7,
   "metadata": {},
   "outputs": [
    {
     "name": "stdout",
     "output_type": "stream",
     "text": [
      "WARNING:tensorflow:From /usr/local/lib/python3.5/dist-packages/tensorflow/python/ops/sparse_ops.py:1165: sparse_to_dense (from tensorflow.python.ops.sparse_ops) is deprecated and will be removed in a future version.\n",
      "Instructions for updating:\n",
      "Create a `tf.sparse.SparseTensor` and use `tf.sparse.to_dense` instead.\n",
      "Loading weights  /host/Code/Mask_RCNN/logs/oyster20190109T1451/mask_rcnn_oyster_0180.h5\n",
      "Re-starting from epoch 180\n"
     ]
    }
   ],
   "source": [
    "# Create model in inference mode\n",
    "with tf.device(DEVICE):\n",
    "    model = modellib.MaskRCNN(mode=\"inference\", model_dir=MODEL_DIR,\n",
    "                              config=config)\n",
    "    \n",
    "# Set path to oyster weights file\n",
    "\n",
    "# Download file from the Releases page and set its path\n",
    "# https://github.com/matterport/Mask_RCNN/releases\n",
    "# weights_path = \"/path/to/mask_rcnn_balloon.h5\"\n",
    "\n",
    "# Or, load the last model you trained\n",
    "#weights_path = model.find_last()\n",
    "\n",
    "#weights_path = '../../logs/oyster20181225T2210/mask_rcnn_oyster_0024.h5'\n",
    "#weights_path = '../../logs/oyster20190106T0103/mask_rcnn_oyster_0025.h5'\n",
    "weights_path = MASK_RCNN_DIR + '/logs/oyster20190109T1451/mask_rcnn_oyster_0180.h5'\n",
    "# Load weights\n",
    "print(\"Loading weights \", weights_path)\n",
    "model.load_weights(weights_path, by_name=True)"
   ]
  },
  {
   "cell_type": "code",
   "execution_count": 8,
   "metadata": {},
   "outputs": [],
   "source": [
    "def compute_overlaps_masks(masks1, masks2):\n",
    "    \"\"\"Computes IoU overlaps between two sets of masks.\n",
    "    masks1, masks2: [Height, Width, instances]\n",
    "    \"\"\"\n",
    "        \n",
    "    # If either set of masks is empty return empty result\n",
    "    if masks2.shape[-1] == 0:\n",
    "        overlaps = 0\n",
    "        intersections = 0\n",
    "        area2 = 0\n",
    "        masks1 = np.reshape(masks1 > .5, (-1, masks1.shape[-1])).astype(np.float32)\n",
    "        area1 = np.sum(masks1, axis=0)\n",
    "        union = area2\n",
    "        return(overlaps, intersections, union, area1, area2)\n",
    "    if masks1.shape[-1] == 0:\n",
    "        return(-1)\n",
    "    # flatten masks and compute their areas\n",
    "    masks1 = np.reshape(masks1 > .5, (-1, masks1.shape[-1])).astype(np.float32)\n",
    "    masks2 = np.reshape(masks2 > .5, (-1, masks2.shape[-1])).astype(np.float32)\n",
    "    area1 = np.sum(masks1, axis=0)\n",
    "    area2 = np.sum(masks2, axis=0)\n",
    "\n",
    "    # intersections and union\n",
    "    intersections = np.dot(masks1.T, masks2)\n",
    "    union = area1[:, None] + area2[None, :] - intersections\n",
    "    overlaps = intersections / union\n",
    "\n",
    "    return(overlaps, intersections, union, area1, area2)\n",
    "\n",
    "def calculate_metrics(dataset, prediction_threshold=0.5):\n",
    "    total_gt = 0  # total ground truth reefs\n",
    "    total_predicted = 0 # total predicted reefs\n",
    "    total_tp = 0 # total true positives\n",
    "    total_fp = 0 # total false positives\n",
    "    total_px = 0 # all pixels\n",
    "    total_fn = 0\n",
    "\n",
    "    for image_id in dataset.image_ids:\n",
    "        # Load image and ground truth data\n",
    "        image, image_meta, gt_class_id, gt_bbox, gt_mask =\\\n",
    "            modellib.load_image_gt(dataset, config,\n",
    "                                   image_id, use_mini_mask=False)\n",
    "        molded_images = np.expand_dims(modellib.mold_image(image, config), 0)\n",
    "        # Run object detection\n",
    "        results = model.detect([image], verbose=0)\n",
    "        r = results[0]\n",
    "        \n",
    "        # filter out masks that don't meet a prediction threshold\n",
    "        r['masks'] = np.array(r['masks'][:,:, r['scores'] > prediction_threshold])\n",
    "\n",
    "        overlap, intersection, union, gt_area, mask_area = compute_overlaps_masks(gt_mask, r['masks'])\n",
    "            \n",
    "        total_tp += np.sum(intersection)\n",
    "        total_predicted += np.sum(mask_area)\n",
    "        total_gt += np.sum(gt_mask)\n",
    "\n",
    "        total_fp += np.sum(mask_area) - np.sum(intersection) \n",
    "\n",
    "        total_fn += np.sum(gt_mask) - np.sum(intersection) \n",
    "\n",
    "        length, width, instances = gt_mask.shape\n",
    "        total_px += length * width\n",
    "        \n",
    "    total_tn = total_px - total_predicted\n",
    "    return(total_tp, total_fp, total_fn, total_tn, total_gt, total_predicted, total_px)\n",
    "\n",
    "def calc_prec_recall_acc(total_tp, total_fp, total_fn, total_tn):\n",
    "    precision = total_tp / (total_tp + total_fp)\n",
    "    recall = total_tp / (total_tp + total_fn)\n",
    "    acc = (total_tp + total_tn) / total_px\n",
    "    return(precision, recall, acc)"
   ]
  },
  {
   "cell_type": "code",
   "execution_count": 9,
   "metadata": {},
   "outputs": [],
   "source": [
    "total_tp, total_fp, total_fn, total_tn, total_gt, total_predicted, total_px = calculate_metrics(dataset_test, prediction_threshold=0.98)\n",
    "precision, recall, acc = calc_prec_recall_acc(total_tp, total_fp, total_fn, total_tn)"
   ]
  },
  {
   "cell_type": "code",
   "execution_count": 10,
   "metadata": {},
   "outputs": [
    {
     "data": {
      "text/plain": [
       "(4847769, 5230570.0)"
      ]
     },
     "execution_count": 10,
     "metadata": {},
     "output_type": "execute_result"
    }
   ],
   "source": [
    "total_gt, total_predicted"
   ]
  },
  {
   "cell_type": "code",
   "execution_count": 12,
   "metadata": {},
   "outputs": [
    {
     "data": {
      "text/plain": [
       "1.078964364844942"
      ]
     },
     "execution_count": 12,
     "metadata": {},
     "output_type": "execute_result"
    }
   ],
   "source": [
    "5230570 / 4847769"
   ]
  },
  {
   "cell_type": "code",
   "execution_count": 11,
   "metadata": {},
   "outputs": [
    {
     "data": {
      "text/plain": [
       "array([0.991, 0.992, 0.993, 0.994, 0.995, 0.996, 0.997, 0.998, 0.999,\n",
       "       1.   ])"
      ]
     },
     "execution_count": 11,
     "metadata": {},
     "output_type": "execute_result"
    }
   ],
   "source": [
    "np.arange(0.991, 1.000, 0.001)"
   ]
  },
  {
   "cell_type": "code",
   "execution_count": 49,
   "metadata": {},
   "outputs": [
    {
     "name": "stderr",
     "output_type": "stream",
     "text": [
      "/usr/local/lib/python3.5/dist-packages/ipykernel_launcher.py:68: RuntimeWarning: invalid value encountered in long_scalars\n"
     ]
    }
   ],
   "source": [
    "pra_list_extd = []\n",
    "for confidence in np.arange(0.991, 1.000, 0.001):\n",
    "    total_tp, total_fp, total_fn, total_tn, total_gt, total_predicted, total_px = calculate_metrics(dataset_test, prediction_threshold=confidence)\n",
    "    precision, recall, acc = calc_prec_recall_acc(total_tp, total_fp, total_fn, total_tn)\n",
    "    pra_list_extd.append([precision, recall, acc])"
   ]
  },
  {
   "cell_type": "code",
   "execution_count": 24,
   "metadata": {},
   "outputs": [
    {
     "name": "stderr",
     "output_type": "stream",
     "text": [
      "/usr/local/lib/python3.5/dist-packages/ipykernel_launcher.py:68: RuntimeWarning: invalid value encountered in long_scalars\n"
     ]
    }
   ],
   "source": [
    "pra_list = []\n",
    "for confidence in np.arange(0.0, 1.01, 0.01):\n",
    "    total_tp, total_fp, total_fn, total_tn, total_gt, total_predicted, total_px = calculate_metrics(dataset_test, prediction_threshold=confidence)\n",
    "    precision, recall, acc = calc_prec_recall_acc(total_tp, total_fp, total_fn, total_tn)\n",
    "    pra_list.append([precision, recall, acc])"
   ]
  },
  {
   "cell_type": "code",
   "execution_count": 44,
   "metadata": {},
   "outputs": [
    {
     "data": {
      "text/plain": [
       "array([0.  , 0.01, 0.02, 0.03, 0.04, 0.05, 0.06, 0.07, 0.08, 0.09, 0.1 ,\n",
       "       0.11, 0.12, 0.13, 0.14, 0.15, 0.16, 0.17, 0.18, 0.19, 0.2 , 0.21,\n",
       "       0.22, 0.23, 0.24, 0.25, 0.26, 0.27, 0.28, 0.29, 0.3 , 0.31, 0.32,\n",
       "       0.33, 0.34, 0.35, 0.36, 0.37, 0.38, 0.39, 0.4 , 0.41, 0.42, 0.43,\n",
       "       0.44, 0.45, 0.46, 0.47, 0.48, 0.49, 0.5 , 0.51, 0.52, 0.53, 0.54,\n",
       "       0.55, 0.56, 0.57, 0.58, 0.59, 0.6 , 0.61, 0.62, 0.63, 0.64, 0.65,\n",
       "       0.66, 0.67, 0.68, 0.69, 0.7 , 0.71, 0.72, 0.73, 0.74, 0.75, 0.76,\n",
       "       0.77, 0.78, 0.79, 0.8 , 0.81, 0.82, 0.83, 0.84, 0.85, 0.86, 0.87,\n",
       "       0.88, 0.89, 0.9 , 0.91, 0.92, 0.93, 0.94, 0.95, 0.96, 0.97, 0.98,\n",
       "       0.99, 1.  ])"
      ]
     },
     "execution_count": 44,
     "metadata": {},
     "output_type": "execute_result"
    }
   ],
   "source": [
    "np.arange(0.0, 1.01, 0.01)"
   ]
  },
  {
   "cell_type": "code",
   "execution_count": 48,
   "metadata": {},
   "outputs": [
    {
     "data": {
      "text/plain": [
       "array([0.991, 0.992, 0.993, 0.994, 0.995, 0.996, 0.997, 0.998, 0.999,\n",
       "       1.   ])"
      ]
     },
     "execution_count": 48,
     "metadata": {},
     "output_type": "execute_result"
    }
   ],
   "source": [
    "np.arange(0.991, 1.0, 0.001)"
   ]
  },
  {
   "cell_type": "code",
   "execution_count": 51,
   "metadata": {},
   "outputs": [
    {
     "data": {
      "text/plain": [
       "[[0.49577102290717734, 0.8597899363604166, 0.9387456287037242],\n",
       " [0.49577102290717734, 0.8597899363604166, 0.9387456287037242],\n",
       " [0.49577102290717734, 0.8597899363604166, 0.9387456287037242],\n",
       " [0.49577102290717734, 0.8597899363604166, 0.9387456287037242],\n",
       " [0.49577102290717734, 0.8597899363604166, 0.9387456287037242],\n",
       " [0.49577102290717734, 0.8597899363604166, 0.9387456287037242],\n",
       " [0.49577102290717734, 0.8597899363604166, 0.9387456287037242],\n",
       " [0.49577102290717734, 0.8597899363604166, 0.9387456287037242],\n",
       " [0.49577102290717734, 0.8597899363604166, 0.9387456287037242],\n",
       " [0.49577102290717734, 0.8597899363604166, 0.9387456287037242],\n",
       " [0.49577102290717734, 0.8597899363604166, 0.9387456287037242],\n",
       " [0.49577102290717734, 0.8597899363604166, 0.9387456287037242],\n",
       " [0.49577102290717734, 0.8597899363604166, 0.9387456287037242],\n",
       " [0.49577102290717734, 0.8597899363604166, 0.9387456287037242],\n",
       " [0.49577102290717734, 0.8597899363604166, 0.9387456287037242],\n",
       " [0.49577102290717734, 0.8597899363604166, 0.9387456287037242],\n",
       " [0.49577102290717734, 0.8597899363604166, 0.9387456287037242],\n",
       " [0.49577102290717734, 0.8597899363604166, 0.9387456287037242],\n",
       " [0.49577102290717734, 0.8597899363604166, 0.9387456287037242],\n",
       " [0.49577102290717734, 0.8597899363604166, 0.9387456287037242],\n",
       " [0.49577102290717734, 0.8597899363604166, 0.9387456287037242],\n",
       " [0.49577102290717734, 0.8597899363604166, 0.9387456287037242],\n",
       " [0.49577102290717734, 0.8597899363604166, 0.9387456287037242],\n",
       " [0.49577102290717734, 0.8597899363604166, 0.9387456287037242],\n",
       " [0.49577102290717734, 0.8597899363604166, 0.9387456287037242],\n",
       " [0.49577102290717734, 0.8597899363604166, 0.9387456287037242],\n",
       " [0.49577102290717734, 0.8597899363604166, 0.9387456287037242],\n",
       " [0.49577102290717734, 0.8597899363604166, 0.9387456287037242],\n",
       " [0.49577102290717734, 0.8597899363604166, 0.9387456287037242],\n",
       " [0.49577102290717734, 0.8597899363604166, 0.9387456287037242],\n",
       " [0.49577102290717734, 0.8597899363604166, 0.9387456287037242],\n",
       " [0.49577102290717734, 0.8597899363604166, 0.9387456287037242],\n",
       " [0.49577102290717734, 0.8597899363604166, 0.9387456287037242],\n",
       " [0.49577102290717734, 0.8597899363604166, 0.9387456287037242],\n",
       " [0.49577102290717734, 0.8597899363604166, 0.9387456287037242],\n",
       " [0.49577102290717734, 0.8597899363604166, 0.9387456287037242],\n",
       " [0.49577102290717734, 0.8597899363604166, 0.9387456287037242],\n",
       " [0.49577102290717734, 0.8597899363604166, 0.9387456287037242],\n",
       " [0.49577102290717734, 0.8597899363604166, 0.9387456287037242],\n",
       " [0.49577102290717734, 0.8597899363604166, 0.9387456287037242],\n",
       " [0.49577102290717734, 0.8597899363604166, 0.9387456287037242],\n",
       " [0.49577102290717734, 0.8597899363604166, 0.9387456287037242],\n",
       " [0.49577102290717734, 0.8597899363604166, 0.9387456287037242],\n",
       " [0.49577102290717734, 0.8597899363604166, 0.9387456287037242],\n",
       " [0.49577102290717734, 0.8597899363604166, 0.9387456287037242],\n",
       " [0.49577102290717734, 0.8597899363604166, 0.9387456287037242],\n",
       " [0.49577102290717734, 0.8597899363604166, 0.9387456287037242],\n",
       " [0.49577102290717734, 0.8597899363604166, 0.9387456287037242],\n",
       " [0.49577102290717734, 0.8597899363604166, 0.9387456287037242],\n",
       " [0.49577102290717734, 0.8597899363604166, 0.9387456287037242],\n",
       " [0.49577102290717734, 0.8597899363604166, 0.9387456287037242],\n",
       " [0.49826806836007903, 0.8588532168096293, 0.9394204977786902],\n",
       " [0.4983325385052279, 0.8578985508591684, 0.9395034385449959],\n",
       " [0.501673212813713, 0.8570629087318311, 0.9403646064527107],\n",
       " [0.5018699135434502, 0.8570629087318311, 0.9404115098895449],\n",
       " [0.505630170431188, 0.8570629087318311, 0.9413011290810325],\n",
       " [0.5062049918937132, 0.8570629087318311, 0.9414359583999171],\n",
       " [0.5094026068977108, 0.8565932081334734, 0.9422121192469741],\n",
       " [0.509815683535026, 0.8565932081334734, 0.9423075589266691],\n",
       " [0.5108457061214378, 0.8565917641702813, 0.9425449660330107],\n",
       " [0.5124131162073503, 0.8565917641702813, 0.9429042556069114],\n",
       " [0.5124888772055838, 0.8565917641702813, 0.9429215662407152],\n",
       " [0.5129133277193354, 0.8565088394269611, 0.943023970632842],\n",
       " [0.513745716164679, 0.8561688892354401, 0.9432360331217448],\n",
       " [0.5142436584935329, 0.8527623737847245, 0.9435744719071821],\n",
       " [0.5147026477669158, 0.8524669801717037, 0.9436975681420529],\n",
       " [0.5146509822816958, 0.8522388339873456, 0.9437009926998254],\n",
       " [0.5184055373219818, 0.8511507045818396, 0.9446119106177128],\n",
       " [0.5195689807579077, 0.8511507045818396, 0.944869446031975],\n",
       " [0.5198767936350099, 0.8509157511424328, 0.9449525890928326],\n",
       " [0.5213232530339293, 0.8502993851398447, 0.9453103470079827],\n",
       " [0.521547982343521, 0.8502993851398447, 0.9453595768321644],\n",
       " [0.522358468975337, 0.8502993851398447, 0.9455367724100748],\n",
       " [0.5229458666968412, 0.8475096482526292, 0.9458431186098041],\n",
       " [0.5229098382984704, 0.8473644268115911, 0.9458445780205004],\n",
       " [0.5226390998785617, 0.8462296780230246, 0.9458583773988666],\n",
       " [0.5233873102125619, 0.8444179167778003, 0.946136084469882],\n",
       " [0.523082513077082, 0.8433764067553549, 0.9461367491519812],\n",
       " [0.5263678019242289, 0.8433764067553549, 0.9468416589679141],\n",
       " [0.5227479598058069, 0.8266650081718002, 0.9471331943165172],\n",
       " [0.5249494662766402, 0.826662739086784, 0.9475978938016024],\n",
       " [0.5266478494938287, 0.8260820596030876, 0.9479901862866951],\n",
       " [0.5271538194129302, 0.8254964293884465, 0.948132442705559],\n",
       " [0.5274815730744189, 0.8252391976597895, 0.948216741735285],\n",
       " [0.5275695133603141, 0.8250966578646796, 0.9482439503525243],\n",
       " [0.5304626379835892, 0.8249415349617525, 0.9488510652021929],\n",
       " [0.5424896281790823, 0.8239272539595018, 0.9513260667974298],\n",
       " [0.5436792567406756, 0.8236904439959908, 0.951572779453162],\n",
       " [0.5438055450492113, 0.8224271824833238, 0.9516716581402402],\n",
       " [0.5494440632437061, 0.8224271824833238, 0.9527588179617217],\n",
       " [0.5520799286922744, 0.8222984634787672, 0.9532667362328732],\n",
       " [0.5548394632198457, 0.8221441656976642, 0.9537943204243978],\n",
       " [0.5660258847112098, 0.8179205733606532, 0.956072474970962],\n",
       " [0.5747801186099395, 0.8176563280964914, 0.9576278310833555],\n",
       " [0.5809299864103944, 0.8174378770935661, 0.9586937644264915],\n",
       " [0.5923847015295083, 0.815206747681253, 0.9607072454510313],\n",
       " [0.6000821251509586, 0.8027748434382909, 0.962524110620672],\n",
       " [0.6143251576482007, 0.8021879755409138, 0.9647225466641512],\n",
       " [0.7368478113513699, 0.7949262846476389, 0.9801136941620798],\n",
       " [0.7710985041286379, 0.7718812509424439, 0.983949545657996],\n",
       " [nan, 0.0, 1.0],\n",
       " [0.7719934324830091, 0.7634144696250997, 0.9842059973514441],\n",
       " [0.7722916076358077, 0.7511480023078657, 0.9844860886082505],\n",
       " [0.7738370965823129, 0.7500609043046399, 0.9846444129943848],\n",
       " [0.7883797727233589, 0.746044623825929, 0.985972361131148],\n",
       " [0.788711724711156, 0.7140655835705043, 0.9866003556685015],\n",
       " [0.7964007114683628, 0.7073094860749347, 0.9873336300705419],\n",
       " [0.7987396444022362, 0.6880763089165346, 0.9878552754720052],\n",
       " [0.8098594139655522, 0.6721729108792106, 0.9889453685644901],\n",
       " [0.8720170680207316, 0.48234950964041395, 0.9950410813996287],\n",
       " [nan, 0.0, 1.0]]"
      ]
     },
     "execution_count": 51,
     "metadata": {},
     "output_type": "execute_result"
    }
   ],
   "source": [
    "pra_list + pra_list_extd"
   ]
  },
  {
   "cell_type": "code",
   "execution_count": 50,
   "metadata": {},
   "outputs": [
    {
     "data": {
      "text/plain": [
       "[<matplotlib.lines.Line2D at 0x7faa4f7d4ba8>]"
      ]
     },
     "execution_count": 50,
     "metadata": {},
     "output_type": "execute_result"
    },
    {
     "data": {
      "image/png": "[encoded data removed]",
      "text/plain": [
       "<Figure size 432x288 with 1 Axes>"
      ]
     },
     "metadata": {
      "needs_background": "light"
     },
     "output_type": "display_data"
    }
   ],
   "source": [
    "fig, ax = plt.subplots()\n",
    "pra_array = np.array(pra_list + pra_list_extd)\n",
    "ax.set_xlabel(\"Recall\")\n",
    "ax.set_ylabel(\"Precision\")\n",
    "ax.set_xlim(0.75,0.88)\n",
    "ax.set_ylim(0.4,0.8)\n",
    "ax.plot([i[1] for i in pra_array], [i[0] for i in pra_array])"
   ]
  },
  {
   "cell_type": "code",
   "execution_count": 2,
   "metadata": {},
   "outputs": [],
   "source": [
    "pra_list_extd = [[0.49577102290717734, 0.8597899363604166, 0.9387456287037242],\n",
    " [0.49577102290717734, 0.8597899363604166, 0.9387456287037242],\n",
    " [0.49577102290717734, 0.8597899363604166, 0.9387456287037242],\n",
    " [0.49577102290717734, 0.8597899363604166, 0.9387456287037242],\n",
    " [0.49577102290717734, 0.8597899363604166, 0.9387456287037242],\n",
    " [0.49577102290717734, 0.8597899363604166, 0.9387456287037242],\n",
    " [0.49577102290717734, 0.8597899363604166, 0.9387456287037242],\n",
    " [0.49577102290717734, 0.8597899363604166, 0.9387456287037242],\n",
    " [0.49577102290717734, 0.8597899363604166, 0.9387456287037242],\n",
    " [0.49577102290717734, 0.8597899363604166, 0.9387456287037242],\n",
    " [0.49577102290717734, 0.8597899363604166, 0.9387456287037242],\n",
    " [0.49577102290717734, 0.8597899363604166, 0.9387456287037242],\n",
    " [0.49577102290717734, 0.8597899363604166, 0.9387456287037242],\n",
    " [0.49577102290717734, 0.8597899363604166, 0.9387456287037242],\n",
    " [0.49577102290717734, 0.8597899363604166, 0.9387456287037242],\n",
    " [0.49577102290717734, 0.8597899363604166, 0.9387456287037242],\n",
    " [0.49577102290717734, 0.8597899363604166, 0.9387456287037242],\n",
    " [0.49577102290717734, 0.8597899363604166, 0.9387456287037242],\n",
    " [0.49577102290717734, 0.8597899363604166, 0.9387456287037242],\n",
    " [0.49577102290717734, 0.8597899363604166, 0.9387456287037242],\n",
    " [0.49577102290717734, 0.8597899363604166, 0.9387456287037242],\n",
    " [0.49577102290717734, 0.8597899363604166, 0.9387456287037242],\n",
    " [0.49577102290717734, 0.8597899363604166, 0.9387456287037242],\n",
    " [0.49577102290717734, 0.8597899363604166, 0.9387456287037242],\n",
    " [0.49577102290717734, 0.8597899363604166, 0.9387456287037242],\n",
    " [0.49577102290717734, 0.8597899363604166, 0.9387456287037242],\n",
    " [0.49577102290717734, 0.8597899363604166, 0.9387456287037242],\n",
    " [0.49577102290717734, 0.8597899363604166, 0.9387456287037242],\n",
    " [0.49577102290717734, 0.8597899363604166, 0.9387456287037242],\n",
    " [0.49577102290717734, 0.8597899363604166, 0.9387456287037242],\n",
    " [0.49577102290717734, 0.8597899363604166, 0.9387456287037242],\n",
    " [0.49577102290717734, 0.8597899363604166, 0.9387456287037242],\n",
    " [0.49577102290717734, 0.8597899363604166, 0.9387456287037242],\n",
    " [0.49577102290717734, 0.8597899363604166, 0.9387456287037242],\n",
    " [0.49577102290717734, 0.8597899363604166, 0.9387456287037242],\n",
    " [0.49577102290717734, 0.8597899363604166, 0.9387456287037242],\n",
    " [0.49577102290717734, 0.8597899363604166, 0.9387456287037242],\n",
    " [0.49577102290717734, 0.8597899363604166, 0.9387456287037242],\n",
    " [0.49577102290717734, 0.8597899363604166, 0.9387456287037242],\n",
    " [0.49577102290717734, 0.8597899363604166, 0.9387456287037242],\n",
    " [0.49577102290717734, 0.8597899363604166, 0.9387456287037242],\n",
    " [0.49577102290717734, 0.8597899363604166, 0.9387456287037242],\n",
    " [0.49577102290717734, 0.8597899363604166, 0.9387456287037242],\n",
    " [0.49577102290717734, 0.8597899363604166, 0.9387456287037242],\n",
    " [0.49577102290717734, 0.8597899363604166, 0.9387456287037242],\n",
    " [0.49577102290717734, 0.8597899363604166, 0.9387456287037242],\n",
    " [0.49577102290717734, 0.8597899363604166, 0.9387456287037242],\n",
    " [0.49577102290717734, 0.8597899363604166, 0.9387456287037242],\n",
    " [0.49577102290717734, 0.8597899363604166, 0.9387456287037242],\n",
    " [0.49577102290717734, 0.8597899363604166, 0.9387456287037242],\n",
    " [0.49577102290717734, 0.8597899363604166, 0.9387456287037242],\n",
    " [0.49826806836007903, 0.8588532168096293, 0.9394204977786902],\n",
    " [0.4983325385052279, 0.8578985508591684, 0.9395034385449959],\n",
    " [0.501673212813713, 0.8570629087318311, 0.9403646064527107],\n",
    " [0.5018699135434502, 0.8570629087318311, 0.9404115098895449],\n",
    " [0.505630170431188, 0.8570629087318311, 0.9413011290810325],\n",
    " [0.5062049918937132, 0.8570629087318311, 0.9414359583999171],\n",
    " [0.5094026068977108, 0.8565932081334734, 0.9422121192469741],\n",
    " [0.509815683535026, 0.8565932081334734, 0.9423075589266691],\n",
    " [0.5108457061214378, 0.8565917641702813, 0.9425449660330107],\n",
    " [0.5124131162073503, 0.8565917641702813, 0.9429042556069114],\n",
    " [0.5124888772055838, 0.8565917641702813, 0.9429215662407152],\n",
    " [0.5129133277193354, 0.8565088394269611, 0.943023970632842],\n",
    " [0.513745716164679, 0.8561688892354401, 0.9432360331217448],\n",
    " [0.5142436584935329, 0.8527623737847245, 0.9435744719071821],\n",
    " [0.5147026477669158, 0.8524669801717037, 0.9436975681420529],\n",
    " [0.5146509822816958, 0.8522388339873456, 0.9437009926998254],\n",
    " [0.5184055373219818, 0.8511507045818396, 0.9446119106177128],\n",
    " [0.5195689807579077, 0.8511507045818396, 0.944869446031975],\n",
    " [0.5198767936350099, 0.8509157511424328, 0.9449525890928326],\n",
    " [0.5213232530339293, 0.8502993851398447, 0.9453103470079827],\n",
    " [0.521547982343521, 0.8502993851398447, 0.9453595768321644],\n",
    " [0.522358468975337, 0.8502993851398447, 0.9455367724100748],\n",
    " [0.5229458666968412, 0.8475096482526292, 0.9458431186098041],\n",
    " [0.5229098382984704, 0.8473644268115911, 0.9458445780205004],\n",
    " [0.5226390998785617, 0.8462296780230246, 0.9458583773988666],\n",
    " [0.5233873102125619, 0.8444179167778003, 0.946136084469882],\n",
    " [0.523082513077082, 0.8433764067553549, 0.9461367491519812],\n",
    " [0.5263678019242289, 0.8433764067553549, 0.9468416589679141],\n",
    " [0.5227479598058069, 0.8266650081718002, 0.9471331943165172],\n",
    " [0.5249494662766402, 0.826662739086784, 0.9475978938016024],\n",
    " [0.5266478494938287, 0.8260820596030876, 0.9479901862866951],\n",
    " [0.5271538194129302, 0.8254964293884465, 0.948132442705559],\n",
    " [0.5274815730744189, 0.8252391976597895, 0.948216741735285],\n",
    " [0.5275695133603141, 0.8250966578646796, 0.9482439503525243],\n",
    " [0.5304626379835892, 0.8249415349617525, 0.9488510652021929],\n",
    " [0.5424896281790823, 0.8239272539595018, 0.9513260667974298],\n",
    " [0.5436792567406756, 0.8236904439959908, 0.951572779453162],\n",
    " [0.5438055450492113, 0.8224271824833238, 0.9516716581402402],\n",
    " [0.5494440632437061, 0.8224271824833238, 0.9527588179617217],\n",
    " [0.5520799286922744, 0.8222984634787672, 0.9532667362328732],\n",
    " [0.5548394632198457, 0.8221441656976642, 0.9537943204243978],\n",
    " [0.5660258847112098, 0.8179205733606532, 0.956072474970962],\n",
    " [0.5747801186099395, 0.8176563280964914, 0.9576278310833555],\n",
    " [0.5809299864103944, 0.8174378770935661, 0.9586937644264915],\n",
    " [0.5923847015295083, 0.815206747681253, 0.9607072454510313],\n",
    " [0.6000821251509586, 0.8027748434382909, 0.962524110620672],\n",
    " [0.6143251576482007, 0.8021879755409138, 0.9647225466641512],\n",
    " [0.7368478113513699, 0.7949262846476389, 0.9801136941620798],\n",
    " [0.7710985041286379, 0.7718812509424439, 0.983949545657996],\n",
    " [0.7719934324830091, 0.7634144696250997, 0.9842059973514441],\n",
    " [0.7722916076358077, 0.7511480023078657, 0.9844860886082505],\n",
    " [0.7738370965823129, 0.7500609043046399, 0.9846444129943848],\n",
    " [0.7883797727233589, 0.746044623825929, 0.985972361131148],\n",
    " [0.788711724711156, 0.7140655835705043, 0.9866003556685015],\n",
    " [0.7964007114683628, 0.7073094860749347, 0.9873336300705419],\n",
    " [0.7987396444022362, 0.6880763089165346, 0.9878552754720052],\n",
    " [0.8098594139655522, 0.6721729108792106, 0.9889453685644901],\n",
    " [0.8720170680207316, 0.48234950964041395, 0.9950410813996287]]"
   ]
  },
  {
   "cell_type": "code",
   "execution_count": 10,
   "metadata": {},
   "outputs": [
    {
     "data": {
      "text/plain": [
       "[<matplotlib.lines.Line2D at 0x7f2f522eea90>]"
      ]
     },
     "execution_count": 10,
     "metadata": {},
     "output_type": "execute_result"
    },
    {
     "data": {
      "image/png": "[encoded data removed]",
      "text/plain": [
       "<Figure size 432x288 with 1 Axes>"
      ]
     },
     "metadata": {
      "needs_background": "light"
     },
     "output_type": "display_data"
    }
   ],
   "source": [
    "import matplotlib.pyplot as plt\n",
    "import numpy as np\n",
    "fig, ax = plt.subplots()\n",
    "pra_array = np.array(pra_list_extd)\n",
    "ax.set_xlabel(\"Recall\")\n",
    "ax.set_ylabel(\"Precision\")\n",
    "ax.set_xlim(0.6,.86)\n",
    "ax.set_ylim(0.4,.9)\n",
    "ax.plot([i[1] for i in pra_array], [i[0] for i in pra_array])"
   ]
  },
  {
   "cell_type": "code",
   "execution_count": 35,
   "metadata": {},
   "outputs": [
    {
     "data": {
      "text/plain": [
       "[<matplotlib.lines.Line2D at 0x7faa4f9cafd0>]"
      ]
     },
     "execution_count": 35,
     "metadata": {},
     "output_type": "execute_result"
    },
    {
     "data": {
      "image/png": "[encoded data removed]",
      "text/plain": [
       "<Figure size 432x288 with 1 Axes>"
      ]
     },
     "metadata": {
      "needs_background": "light"
     },
     "output_type": "display_data"
    }
   ],
   "source": [
    "fig, ax = plt.subplots()\n",
    "pra_array = np.array(pra_list)\n",
    "ax.set_xlabel(\"Recall\")\n",
    "ax.set_ylabel(\"Precision\")\n",
    "ax.set_xlim(0.75,0.88)\n",
    "ax.set_ylim(0.4,0.8)\n",
    "ax.plot([i[1] for i in pra_array], [i[0] for i in pra_array])"
   ]
  },
  {
   "cell_type": "code",
   "execution_count": 1,
   "metadata": {},
   "outputs": [
    {
     "ename": "NameError",
     "evalue": "name 'pra_list' is not defined",
     "output_type": "error",
     "traceback": [
      "\u001b[0;31m---------------------------------------------------------------------------\u001b[0m",
      "\u001b[0;31mNameError\u001b[0m                                 Traceback (most recent call last)",
      "\u001b[0;32m<ipython-input-1-d547f540abcf>\u001b[0m in \u001b[0;36m<module>\u001b[0;34m\u001b[0m\n\u001b[0;32m----> 1\u001b[0;31m \u001b[0mpra_list\u001b[0m\u001b[0;34m\u001b[0m\u001b[0m\n\u001b[0m",
      "\u001b[0;31mNameError\u001b[0m: name 'pra_list' is not defined"
     ]
    }
   ],
   "source": [
    "pra_list"
   ]
  },
  {
   "cell_type": "code",
   "execution_count": 30,
   "metadata": {},
   "outputs": [
    {
     "data": {
      "text/plain": [
       "[<matplotlib.lines.Line2D at 0x7faa4fb6f1d0>]"
      ]
     },
     "execution_count": 30,
     "metadata": {},
     "output_type": "execute_result"
    },
    {
     "data": {
      "image/png": "[encoded data removed]",
      "text/plain": [
       "<Figure size 432x288 with 1 Axes>"
      ]
     },
     "metadata": {
      "needs_background": "light"
     },
     "output_type": "display_data"
    }
   ],
   "source": [
    "fig, ax = plt.subplots()\n",
    "pra_array = np.array(pra_list)\n",
    "ax.set_xlim(0,1)\n",
    "ax.set_ylim(0.9,1)\n",
    "ax.plot(np.arange(0.0, 1.01, 0.01),[i[2] for i in pra_array])"
   ]
  },
  {
   "cell_type": "code",
   "execution_count": 323,
   "metadata": {},
   "outputs": [
    {
     "data": {
      "text/plain": [
       "(0.8720170680207316, 0.48234950964041395, 0.9950410813996287)"
      ]
     },
     "execution_count": 323,
     "metadata": {},
     "output_type": "execute_result"
    }
   ],
   "source": [
    "precision, recall, acc # 0.999"
   ]
  },
  {
   "cell_type": "code",
   "execution_count": 321,
   "metadata": {},
   "outputs": [
    {
     "data": {
      "text/plain": [
       "(0.7710985041286379, 0.7718812509424439, 0.983949545657996)"
      ]
     },
     "execution_count": 321,
     "metadata": {},
     "output_type": "execute_result"
    }
   ],
   "source": [
    "precision, recall, acc # 0.99"
   ]
  },
  {
   "cell_type": "code",
   "execution_count": 319,
   "metadata": {},
   "outputs": [
    {
     "data": {
      "text/plain": [
       "(0.7368478113513699, 0.7949262846476389, 0.9801136941620798)"
      ]
     },
     "execution_count": 319,
     "metadata": {},
     "output_type": "execute_result"
    }
   ],
   "source": [
    "precision, recall, acc # 0.98"
   ]
  },
  {
   "cell_type": "code",
   "execution_count": 317,
   "metadata": {},
   "outputs": [
    {
     "data": {
      "text/plain": [
       "(0.5923847015295083, 0.815206747681253, 0.9607072454510313)"
      ]
     },
     "execution_count": 317,
     "metadata": {},
     "output_type": "execute_result"
    }
   ],
   "source": [
    "precision, recall, acc # 0.95"
   ]
  },
  {
   "cell_type": "code",
   "execution_count": 313,
   "metadata": {},
   "outputs": [
    {
     "data": {
      "text/plain": [
       "(0.5520799286922744, 0.8222984634787672, 0.9532667362328732)"
      ]
     },
     "execution_count": 313,
     "metadata": {},
     "output_type": "execute_result"
    }
   ],
   "source": [
    "precision, recall, acc # 0.9"
   ]
  },
  {
   "cell_type": "code",
   "execution_count": 303,
   "metadata": {},
   "outputs": [
    {
     "data": {
      "text/plain": [
       "(0.5213232530339293, 0.8502993851398447, 0.9453103470079827)"
      ]
     },
     "execution_count": 303,
     "metadata": {},
     "output_type": "execute_result"
    }
   ],
   "source": [
    "precision, recall, acc # 0.5"
   ]
  },
  {
   "cell_type": "code",
   "execution_count": null,
   "metadata": {},
   "outputs": [],
   "source": [
    "precision, recall, acc # 0.1"
   ]
  },
  {
   "cell_type": "code",
   "execution_count": null,
   "metadata": {},
   "outputs": [],
   "source": []
  },
  {
   "cell_type": "code",
   "execution_count": 295,
   "metadata": {},
   "outputs": [
    {
     "name": "stdout",
     "output_type": "stream",
     "text": [
      "mAP:  1.0\n"
     ]
    }
   ],
   "source": [
    "#image_ids = np.random.choice(dataset_test.image_ids, 53)\n",
    "\n",
    "APs = []\n",
    "AP_ranges = []\n",
    "precisions_list = []\n",
    "recalls_list = []\n",
    "\n",
    "total_gt = 0  # total ground truth reefs\n",
    "total_predicted = 0 # total predicted reefs\n",
    "total_tp = 0 # total true positives\n",
    "\n",
    "for image_id in dataset_test.image_ids:\n",
    "    # Load image and ground truth data\n",
    "    image, image_meta, gt_class_id, gt_bbox, gt_mask =\\\n",
    "        modellib.load_image_gt(dataset_test, config,\n",
    "                               image_id, use_mini_mask=False)\n",
    "    molded_images = np.expand_dims(modellib.mold_image(image, config), 0)\n",
    "    # Run object detection\n",
    "    results = model.detect([image], verbose=0)\n",
    "    r = results[0]\n",
    "\n",
    "    # Compute AP\n",
    "    AP, precisions, recalls, overlaps =\\\n",
    "        utils.compute_ap(gt_bbox, gt_class_id, gt_mask,\n",
    "                         r[\"rois\"], r[\"class_ids\"], r[\"scores\"], r['masks'])\n",
    "    APs.append(AP)\n",
    "    precisions_list.append(precisions)\n",
    "    recalls_list.append(recalls)\n",
    "    \"\"\"\n",
    "    AP_range = utils.compute_ap_range(gt_bbox, gt_class_id, gt_mask,\n",
    "                     r[\"rois\"], r[\"class_ids\"], r[\"scores\"], r['masks'],\n",
    "                     iou_thresholds=None, verbose=0)\n",
    "    AP_ranges.append(AP_range)\n",
    "    \"\"\"\n",
    "    gt_match, pred_match, overlaps = utils.compute_matches(gt_bbox, gt_class_id, gt_mask,\n",
    "                    r[\"rois\"], r[\"class_ids\"], r[\"scores\"], r['masks'],\n",
    "                    iou_threshold=0.5, score_threshold=0.5)\n",
    "    \n",
    "    total_gt += gt_match.shape[0]  # total ground truth reefs\n",
    "    total_predicted += pred_match.shape[0] # total predicted reefs\n",
    "    total_tp += (pred_match > -1).sum() # total true positives\n",
    "    \n",
    "    break\n",
    "\n",
    "print(\"mAP: \", np.mean(APs))"
   ]
  },
  {
   "cell_type": "code",
   "execution_count": 296,
   "metadata": {},
   "outputs": [
    {
     "data": {
      "text/plain": [
       "array([[[False, False, False, False, False, False],\n",
       "        [False, False, False, False, False, False],\n",
       "        [False, False, False, False, False, False],\n",
       "        ...,\n",
       "        [False, False, False, False, False, False],\n",
       "        [False, False, False, False, False, False],\n",
       "        [False, False, False, False, False, False]],\n",
       "\n",
       "       [[False, False, False, False, False, False],\n",
       "        [False, False, False, False, False, False],\n",
       "        [False, False, False, False, False, False],\n",
       "        ...,\n",
       "        [False, False, False, False, False, False],\n",
       "        [False, False, False, False, False, False],\n",
       "        [False, False, False, False, False, False]],\n",
       "\n",
       "       [[False, False, False, False, False, False],\n",
       "        [False, False, False, False, False, False],\n",
       "        [False, False, False, False, False, False],\n",
       "        ...,\n",
       "        [False, False, False, False, False, False],\n",
       "        [False, False, False, False, False, False],\n",
       "        [False, False, False, False, False, False]],\n",
       "\n",
       "       ...,\n",
       "\n",
       "       [[False, False, False, False, False, False],\n",
       "        [False, False, False, False, False, False],\n",
       "        [False, False, False, False, False, False],\n",
       "        ...,\n",
       "        [False, False, False, False, False, False],\n",
       "        [False, False, False, False, False, False],\n",
       "        [False, False, False, False, False, False]],\n",
       "\n",
       "       [[False, False, False, False, False, False],\n",
       "        [False, False, False, False, False, False],\n",
       "        [False, False, False, False, False, False],\n",
       "        ...,\n",
       "        [False, False, False, False, False, False],\n",
       "        [False, False, False, False, False, False],\n",
       "        [False, False, False, False, False, False]],\n",
       "\n",
       "       [[False, False, False, False, False, False],\n",
       "        [False, False, False, False, False, False],\n",
       "        [False, False, False, False, False, False],\n",
       "        ...,\n",
       "        [False, False, False, False, False, False],\n",
       "        [False, False, False, False, False, False],\n",
       "        [False, False, False, False, False, False]]])"
      ]
     },
     "execution_count": 296,
     "metadata": {},
     "output_type": "execute_result"
    }
   ],
   "source": [
    "r['masks']"
   ]
  },
  {
   "cell_type": "code",
   "execution_count": null,
   "metadata": {},
   "outputs": [],
   "source": [
    "r['masks'][0]"
   ]
  },
  {
   "cell_type": "code",
   "execution_count": 292,
   "metadata": {},
   "outputs": [],
   "source": [
    "r['masks'] = np.array(r['masks'][:,:, r['scores'] > 0.6])"
   ]
  },
  {
   "cell_type": "code",
   "execution_count": 38,
   "metadata": {},
   "outputs": [
    {
     "data": {
      "text/plain": [
       "(262, 373, 167)"
      ]
     },
     "execution_count": 38,
     "metadata": {},
     "output_type": "execute_result"
    }
   ],
   "source": [
    "total_gt, total_predicted, total_tp"
   ]
  },
  {
   "cell_type": "code",
   "execution_count": 39,
   "metadata": {},
   "outputs": [],
   "source": [
    "total_fp = total_predicted - total_tp\n",
    "total_fn = total_gt - total_tp\n",
    "\n",
    "# Precision is defined as the number of true positives over the number of true positives plus the number of false positives.\n",
    "\n",
    "precision = total_tp / (total_tp + total_fp)\n",
    "\n",
    "# Recall is defined as the number of true positives over the number of true positives plus the number of false negatives.\n",
    "recall = total_tp / (total_tp + total_fn )"
   ]
  },
  {
   "cell_type": "code",
   "execution_count": 40,
   "metadata": {},
   "outputs": [
    {
     "data": {
      "text/plain": [
       "(0.4477211796246649, 0.6374045801526718)"
      ]
     },
     "execution_count": 40,
     "metadata": {},
     "output_type": "execute_result"
    }
   ],
   "source": [
    "precision, recall # with iou_thresh = 0.5 and score_thresh = 0.5"
   ]
  },
  {
   "cell_type": "code",
   "execution_count": 28,
   "metadata": {},
   "outputs": [
    {
     "data": {
      "text/plain": [
       "(0.4477211796246649, 0.6374045801526718)"
      ]
     },
     "execution_count": 28,
     "metadata": {},
     "output_type": "execute_result"
    }
   ],
   "source": [
    "precision, recall # with iou_thresh = 0.5 and score_thresh = 0.1"
   ]
  },
  {
   "cell_type": "code",
   "execution_count": 32,
   "metadata": {},
   "outputs": [
    {
     "data": {
      "text/plain": [
       "(0.5040214477211796, 0.7175572519083969)"
      ]
     },
     "execution_count": 32,
     "metadata": {},
     "output_type": "execute_result"
    }
   ],
   "source": [
    "precision, recall # with iou_thresh = 0.05 and score_thresh = 0.1"
   ]
  },
  {
   "cell_type": "code",
   "execution_count": 24,
   "metadata": {},
   "outputs": [
    {
     "data": {
      "text/plain": [
       "(0.5040214477211796, 0.7175572519083969)"
      ]
     },
     "execution_count": 24,
     "metadata": {},
     "output_type": "execute_result"
    }
   ],
   "source": [
    "precision, recall # with iou_thresh = 0.1 and score_thresh = 0.1"
   ]
  },
  {
   "cell_type": "code",
   "execution_count": 36,
   "metadata": {},
   "outputs": [
    {
     "data": {
      "text/plain": [
       "(0.4932975871313673, 0.7022900763358778)"
      ]
     },
     "execution_count": 36,
     "metadata": {},
     "output_type": "execute_result"
    }
   ],
   "source": [
    "precision, recall # with iou_thresh = 0.1 and score_thresh = 0.25"
   ]
  },
  {
   "cell_type": "code",
   "execution_count": 19,
   "metadata": {},
   "outputs": [
    {
     "data": {
      "text/plain": [
       "(0.4477211796246649, 0.6374045801526718)"
      ]
     },
     "execution_count": 19,
     "metadata": {},
     "output_type": "execute_result"
    }
   ],
   "source": [
    "precision, recall # with iou_thresh = 0.1 and score_thresh = 0.5"
   ]
  },
  {
   "cell_type": "code",
   "execution_count": 45,
   "metadata": {},
   "outputs": [],
   "source": [
    "pre_flat = np.concatenate(precisions_list, axis=0 )"
   ]
  },
  {
   "cell_type": "code",
   "execution_count": 46,
   "metadata": {},
   "outputs": [],
   "source": [
    "rec_flat = np.concatenate(recalls_list, axis=0 )"
   ]
  },
  {
   "cell_type": "code",
   "execution_count": 49,
   "metadata": {},
   "outputs": [
    {
     "data": {
      "image/png": "[encoded data removed]",
      "text/plain": [
       "<Figure size 432x288 with 1 Axes>"
      ]
     },
     "metadata": {
      "needs_background": "light"
     },
     "output_type": "display_data"
    }
   ],
   "source": [
    "plot_precision_recall_custom(APs[0], pre_flat, rec_flat)"
   ]
  },
  {
   "cell_type": "code",
   "execution_count": 48,
   "metadata": {},
   "outputs": [],
   "source": [
    "def plot_precision_recall_custom(AP, precisions, recalls):\n",
    "    \"\"\"Draw the precision-recall curve.\n",
    "    AP: Average precision at IoU >= 0.5\n",
    "    precisions: list of precision values\n",
    "    recalls: list of recall values\n",
    "    \"\"\"\n",
    "    # Plot the Precision-Recall curve\n",
    "    _, ax = plt.subplots(1)\n",
    "    #ax.set_title(\"Precision-Recall Curve. AP@50 = {:.3f}\".format(AP))\n",
    "    ax.set_ylim(-0.1, 1.1)\n",
    "    ax.set_xlim(0.1, 1.1)\n",
    "    _ = ax.plot(recalls, precisions)"
   ]
  },
  {
   "cell_type": "code",
   "execution_count": 29,
   "metadata": {},
   "outputs": [
    {
     "data": {
      "text/plain": [
       "0.6666666666666666"
      ]
     },
     "execution_count": 29,
     "metadata": {},
     "output_type": "execute_result"
    }
   ],
   "source": [
    "APs[-1]"
   ]
  },
  {
   "cell_type": "code",
   "execution_count": null,
   "metadata": {},
   "outputs": [],
   "source": [
    "So I can calculate total precision"
   ]
  },
  {
   "cell_type": "code",
   "execution_count": 56,
   "metadata": {},
   "outputs": [],
   "source": [
    "def calculate_metrics(dataset, score_threshold=0.5, iou_threshold=0.5):\n",
    "    \n",
    "    total_gt = 0  # total ground truth reefs\n",
    "    total_predicted = 0 # total predicted reefs\n",
    "    total_tp = 0 # total true positives\n",
    "\n",
    "    for image_id in dataset.image_ids:\n",
    "        # Load image and ground truth data\n",
    "        image, image_meta, gt_class_id, gt_bbox, gt_mask =\\\n",
    "            modellib.load_image_gt(dataset, config,\n",
    "                                   image_id, use_mini_mask=False)\n",
    "        molded_images = np.expand_dims(modellib.mold_image(image, config), 0)\n",
    "        # Run object detection\n",
    "        results = model.detect([image], verbose=0)\n",
    "        r = results[0]\n",
    "\n",
    "        gt_match, pred_match, overlaps = utils.compute_matches(gt_bbox, gt_class_id, gt_mask,\n",
    "                        r[\"rois\"], r[\"class_ids\"], r[\"scores\"], r['masks'],\n",
    "                        iou_threshold=iou_threshold, score_threshold=score_threshold)\n",
    "\n",
    "        total_gt += gt_match.shape[0]  # total ground truth reefs\n",
    "        total_predicted += pred_match.shape[0] # total predicted reefs\n",
    "        total_tp += (pred_match > -1).sum() # total true positives\n",
    "\n",
    "    total_fp = total_predicted - total_tp\n",
    "    total_fn = total_gt - total_tp\n",
    "\n",
    "    # Precision is defined as the number of true positives over the number of true positives plus the number of false positives.\n",
    "    precision = total_tp / (total_tp + total_fp)\n",
    "\n",
    "    # Recall is defined as the number of true positives over the number of true positives plus the number of false negatives.\n",
    "    recall = total_tp / (total_tp + total_fn )\n",
    "    \n",
    "    return(total_tp, total_predicted, total_fp, precision, recall)"
   ]
  },
  {
   "cell_type": "code",
   "execution_count": 67,
   "metadata": {},
   "outputs": [],
   "source": [
    "def calculate_roc(dataset, score_thresholds=None, iou_threshold=0.5):\n",
    "    # The ROC plot uses 1 – specificity on the x-axis and sensitivity on the y-axis\n",
    "    # False positive rate (FPR) is identical with 1 – specificity, and true positive rate (TPR) \n",
    "    # is identical with sensitivity.\n",
    "    \n",
    "    score_thresholds = score_thresholds or np.arange(0.0, 0.1, 0.05)\n",
    "    \n",
    "    fprs = []\n",
    "    tprs = []\n",
    "    \n",
    "    for threshold in score_thresholds:\n",
    "    \n",
    "        total_tp, total_predicted, total_fp, precision, recall = calculate_metrics(dataset, \n",
    "                                                                                   score_threshold=threshold, \n",
    "                                                                                   iou_threshold=iou_threshold)\n",
    "        fpr = total_fp / total_predicted\n",
    "        tpr = recall\n",
    "        \n",
    "        fprs.append(fpr)\n",
    "        tprs.append(tpr)\n",
    "    \n",
    "    return(tprs, fprs)\n",
    "    \n",
    "    "
   ]
  },
  {
   "cell_type": "code",
   "execution_count": 68,
   "metadata": {},
   "outputs": [],
   "source": [
    "true_pos_low, false_pos_low = calculate_roc(dataset_test)"
   ]
  },
  {
   "cell_type": "code",
   "execution_count": 69,
   "metadata": {},
   "outputs": [
    {
     "data": {
      "text/plain": [
       "([0.6374045801526718, 0.6374045801526718],\n",
       " [0.5522788203753352, 0.5522788203753352])"
      ]
     },
     "execution_count": 69,
     "metadata": {},
     "output_type": "execute_result"
    }
   ],
   "source": [
    "true_pos_low, false_pos_low"
   ]
  },
  {
   "cell_type": "code",
   "execution_count": 63,
   "metadata": {},
   "outputs": [
    {
     "data": {
      "text/plain": [
       "array([0.1 , 0.15, 0.2 , 0.25, 0.3 , 0.35, 0.4 , 0.45, 0.5 , 0.55, 0.6 ,\n",
       "       0.65, 0.7 , 0.75, 0.8 , 0.85, 0.9 , 0.95])"
      ]
     },
     "execution_count": 63,
     "metadata": {},
     "output_type": "execute_result"
    }
   ],
   "source": [
    "np.arange(0.1, 1.0, 0.05, score_threholds=np.arange(0.0, 0.1, 0.05))"
   ]
  },
  {
   "cell_type": "code",
   "execution_count": 59,
   "metadata": {},
   "outputs": [
    {
     "data": {
      "text/plain": [
       "[0.6374045801526718,\n",
       " 0.6374045801526718,\n",
       " 0.6374045801526718,\n",
       " 0.6374045801526718,\n",
       " 0.6374045801526718,\n",
       " 0.6374045801526718,\n",
       " 0.6374045801526718,\n",
       " 0.6374045801526718,\n",
       " 0.6374045801526718,\n",
       " 0.6183206106870229,\n",
       " 0.5992366412213741,\n",
       " 0.5229007633587787,\n",
       " 0.4770992366412214,\n",
       " 0.4198473282442748,\n",
       " 0.2786259541984733,\n",
       " 0.16030534351145037,\n",
       " 0.061068702290076333,\n",
       " 0.0]"
      ]
     },
     "execution_count": 59,
     "metadata": {},
     "output_type": "execute_result"
    }
   ],
   "source": [
    "true_pos"
   ]
  },
  {
   "cell_type": "code",
   "execution_count": 62,
   "metadata": {},
   "outputs": [
    {
     "data": {
      "text/plain": [
       "[0.5522788203753352,\n",
       " 0.5522788203753352,\n",
       " 0.5522788203753352,\n",
       " 0.5522788203753352,\n",
       " 0.5522788203753352,\n",
       " 0.5522788203753352,\n",
       " 0.5522788203753352,\n",
       " 0.5522788203753352,\n",
       " 0.5522788203753352,\n",
       " 0.5656836461126006,\n",
       " 0.579088471849866,\n",
       " 0.6327077747989276,\n",
       " 0.6648793565683646,\n",
       " 0.7050938337801609,\n",
       " 0.8042895442359249,\n",
       " 0.8873994638069705,\n",
       " 0.9571045576407506,\n",
       " 1.0]"
      ]
     },
     "execution_count": 62,
     "metadata": {},
     "output_type": "execute_result"
    }
   ],
   "source": [
    "false_pos"
   ]
  },
  {
   "cell_type": "code",
   "execution_count": 76,
   "metadata": {},
   "outputs": [
    {
     "data": {
      "text/plain": [
       "[<matplotlib.lines.Line2D at 0x7f3752261ba8>]"
      ]
     },
     "execution_count": 76,
     "metadata": {},
     "output_type": "execute_result"
    },
    {
     "data": {
      "image/png": "[encoded data removed]",
      "text/plain": [
       "<Figure size 432x288 with 1 Axes>"
      ]
     },
     "metadata": {
      "needs_background": "light"
     },
     "output_type": "display_data"
    }
   ],
   "source": [
    "fig, ax = plt.subplots()\n",
    "ax.set_xlim(0,1)\n",
    "ax.set_ylim(0,1)\n",
    "ax.set_xlabel(\"False Positive Rate\")\n",
    "ax.set_ylabel(\"True Positive Rate\")\n",
    "\n",
    "ax.plot(list(reversed(false_pos)), true_pos)"
   ]
  },
  {
   "cell_type": "code",
   "execution_count": null,
   "metadata": {},
   "outputs": [],
   "source": []
  },
  {
   "cell_type": "code",
   "execution_count": null,
   "metadata": {},
   "outputs": [],
   "source": []
  }
 ],
 "metadata": {
  "kernelspec": {
   "display_name": "Python 3",
   "language": "python",
   "name": "python3"
  },
  "language_info": {
   "codemirror_mode": {
    "name": "ipython",
    "version": 3
   },
   "file_extension": ".py",
   "mimetype": "text/x-python",
   "name": "python",
   "nbconvert_exporter": "python",
   "pygments_lexer": "ipython3",
   "version": "3.5.2"
  }
 },
 "nbformat": 4,
 "nbformat_minor": 2
}
