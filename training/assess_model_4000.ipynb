{
 "cells": [
  {
   "cell_type": "markdown",
   "metadata": {},
   "source": [
    "## Assessing Accuracy\n",
    "\n",
    "#### Set Up Script"
   ]
  },
  {
   "cell_type": "code",
   "execution_count": 1,
   "metadata": {},
   "outputs": [
    {
     "name": "stderr",
     "output_type": "stream",
     "text": [
      "Using TensorFlow backend.\n"
     ]
    }
   ],
   "source": [
    "import os\n",
    "import sys\n",
    "import random\n",
    "import math\n",
    "import re\n",
    "import time\n",
    "import numpy as np\n",
    "import tensorflow as tf\n",
    "import matplotlib\n",
    "import matplotlib.pyplot as plt\n",
    "import matplotlib.patches as patches\n",
    "\n",
    "# Root directory of the project\n",
    "ROOT_DIR = os.path.abspath(\"../../\")\n",
    "\n",
    "# Root directory of MRCNN\n",
    "MASK_RCNN_DIR = os.path.abspath(\"../../Mask_RCNN/\")\n",
    "\n",
    "# Import Mask RCNN\n",
    "sys.path.append(MASK_RCNN_DIR)  # To find local version of the library\n",
    "from mrcnn import utils\n",
    "from mrcnn import visualize\n",
    "from mrcnn.visualize import display_images\n",
    "import mrcnn.model as modellib\n",
    "from mrcnn.model import log\n",
    "\n",
    "import oyster\n",
    "\n",
    "%matplotlib inline \n",
    "\n",
    "# Directory to save logs and trained model\n",
    "MODEL_DIR = os.path.join(ROOT_DIR, \"logs\")"
   ]
  },
  {
   "cell_type": "markdown",
   "metadata": {},
   "source": [
    "## Configurations"
   ]
  },
  {
   "cell_type": "code",
   "execution_count": 2,
   "metadata": {},
   "outputs": [],
   "source": [
    "config = oyster.OysterConfig()\n",
    "OYSTER_DIR = \"../data/4kx4k_dataset/\""
   ]
  },
  {
   "cell_type": "code",
   "execution_count": 3,
   "metadata": {},
   "outputs": [
    {
     "name": "stdout",
     "output_type": "stream",
     "text": [
      "\n",
      "Configurations:\n",
      "BACKBONE                       resnet101\n",
      "BACKBONE_STRIDES               [4, 8, 16, 32, 64]\n",
      "BATCH_SIZE                     1\n",
      "BBOX_STD_DEV                   [0.1 0.1 0.2 0.2]\n",
      "COMPUTE_BACKBONE_SHAPE         None\n",
      "DETECTION_MAX_INSTANCES        100\n",
      "DETECTION_MIN_CONFIDENCE       0.02\n",
      "DETECTION_NMS_THRESHOLD        0.3\n",
      "FPN_CLASSIF_FC_LAYERS_SIZE     1024\n",
      "GPU_COUNT                      1\n",
      "GRADIENT_CLIP_NORM             5.0\n",
      "IMAGES_PER_GPU                 1\n",
      "IMAGE_CHANNEL_COUNT            3\n",
      "IMAGE_MAX_DIM                  1024\n",
      "IMAGE_META_SIZE                14\n",
      "IMAGE_MIN_DIM                  800\n",
      "IMAGE_MIN_SCALE                0\n",
      "IMAGE_RESIZE_MODE              square\n",
      "IMAGE_SHAPE                    [1024 1024    3]\n",
      "LEARNING_MOMENTUM              0.9\n",
      "LEARNING_RATE                  0.001\n",
      "LOSS_WEIGHTS                   {'mrcnn_bbox_loss': 1.0, 'mrcnn_class_loss': 1.0, 'rpn_class_loss': 1.0, 'rpn_bbox_loss': 1.0, 'mrcnn_mask_loss': 2.0}\n",
      "MASK_POOL_SIZE                 14\n",
      "MASK_SHAPE                     [28, 28]\n",
      "MAX_GT_INSTANCES               100\n",
      "MEAN_PIXEL                     [123.7 116.8 103.9]\n",
      "MINI_MASK_SHAPE                (56, 56)\n",
      "NAME                           oyster\n",
      "NUM_CLASSES                    2\n",
      "POOL_SIZE                      7\n",
      "POST_NMS_ROIS_INFERENCE        1000\n",
      "POST_NMS_ROIS_TRAINING         2000\n",
      "PRE_NMS_LIMIT                  6000\n",
      "ROI_POSITIVE_RATIO             0.33\n",
      "RPN_ANCHOR_RATIOS              [0.5, 1, 2]\n",
      "RPN_ANCHOR_SCALES              (32, 64, 128, 256, 512)\n",
      "RPN_ANCHOR_STRIDE              2\n",
      "RPN_BBOX_STD_DEV               [0.1 0.1 0.2 0.2]\n",
      "RPN_NMS_THRESHOLD              0.7\n",
      "RPN_TRAIN_ANCHORS_PER_IMAGE    256\n",
      "STEPS_PER_EPOCH                103\n",
      "TOP_DOWN_PYRAMID_SIZE          256\n",
      "TRAIN_BN                       False\n",
      "TRAIN_ROIS_PER_IMAGE           32\n",
      "USE_MINI_MASK                  True\n",
      "USE_RPN_ROIS                   True\n",
      "VALIDATION_STEPS               50\n",
      "WEIGHT_DECAY                   0.0001\n",
      "\n",
      "\n"
     ]
    }
   ],
   "source": [
    "# Override the training configurations with a few\n",
    "# changes for inferencing.\n",
    "class InferenceConfig(config.__class__):\n",
    "    # Run detection on one image at a time\n",
    "    GPU_COUNT = 1\n",
    "    IMAGES_PER_GPU = 1\n",
    "\n",
    "config = InferenceConfig()\n",
    "config.display()"
   ]
  },
  {
   "cell_type": "markdown",
   "metadata": {},
   "source": [
    "## Notebook Preferences"
   ]
  },
  {
   "cell_type": "code",
   "execution_count": 4,
   "metadata": {},
   "outputs": [],
   "source": [
    "# Device to load the neural network on.\n",
    "# Useful if you're training a model on the same \n",
    "# machine, in which case use CPU and leave the\n",
    "# GPU for training.\n",
    "DEVICE = \"/gpu:2\"  # /cpu:0 or /gpu:0\n",
    "\n",
    "# Inspect the model in training or inference modes\n",
    "# values: 'inference' or 'training'\n",
    "# TODO: code for 'training' test mode not ready yet\n",
    "TEST_MODE = \"inference\""
   ]
  },
  {
   "cell_type": "code",
   "execution_count": 5,
   "metadata": {},
   "outputs": [],
   "source": [
    "def get_ax(rows=1, cols=1, size=16):\n",
    "    \"\"\"Return a Matplotlib Axes array to be used in\n",
    "    all visualizations in the notebook. Provide a\n",
    "    central point to control graph sizes.\n",
    "    \n",
    "    Adjust the size attribute to control how big to render images\n",
    "    \"\"\"\n",
    "    _, ax = plt.subplots(rows, cols, figsize=(size*cols, size*rows))\n",
    "    return ax"
   ]
  },
  {
   "cell_type": "markdown",
   "metadata": {},
   "source": [
    "### Load Dataset"
   ]
  },
  {
   "cell_type": "code",
   "execution_count": 6,
   "metadata": {},
   "outputs": [
    {
     "name": "stdout",
     "output_type": "stream",
     "text": [
      "Images: 31\n",
      "Classes: ['BG', 'oyster']\n"
     ]
    }
   ],
   "source": [
    "# Load validation dataset\n",
    "dataset_test = oyster.OysterDataset()\n",
    "dataset_test.load_oyster(OYSTER_DIR, \"test\")\n",
    "\n",
    "# Must call before using the dataset\n",
    "dataset_test.prepare()\n",
    "\n",
    "print(\"Images: {}\\nClasses: {}\".format(len(dataset_test.image_ids), dataset_test.class_names))"
   ]
  },
  {
   "cell_type": "markdown",
   "metadata": {},
   "source": [
    "### Load Model"
   ]
  },
  {
   "cell_type": "code",
   "execution_count": 7,
   "metadata": {},
   "outputs": [
    {
     "name": "stdout",
     "output_type": "stream",
     "text": [
      "WARNING:tensorflow:From /usr/local/lib/python3.5/dist-packages/tensorflow/python/ops/sparse_ops.py:1165: sparse_to_dense (from tensorflow.python.ops.sparse_ops) is deprecated and will be removed in a future version.\n",
      "Instructions for updating:\n",
      "Create a `tf.sparse.SparseTensor` and use `tf.sparse.to_dense` instead.\n",
      "Loading weights  ../logs/oyster20190209T1914/mask_rcnn_oyster_0188.h5\n",
      "Re-starting from epoch 188\n"
     ]
    }
   ],
   "source": [
    "# Create model in inference mode\n",
    "with tf.device(DEVICE):\n",
    "    model = modellib.MaskRCNN(mode=\"inference\", model_dir=MODEL_DIR,\n",
    "                              config=config)\n",
    "    \n",
    "# Set path to oyster weights file\n",
    "\n",
    "# Download file from the Releases page and set its path\n",
    "# https://github.com/matterport/Mask_RCNN/releases\n",
    "# weights_path = \"/path/to/mask_rcnn_balloon.h5\"\n",
    "\n",
    "# Or, load the last model you trained\n",
    "#weights_path = model.find_last()\n",
    "\n",
    "#weights_path = '../../logs/oyster20181225T2210/mask_rcnn_oyster_0024.h5'\n",
    "#weights_path = '../../logs/oyster20190106T0103/mask_rcnn_oyster_0025.h5'\n",
    "#weights_path = MASK_RCNN_DIR + '/logs/oyster20190109T1451/mask_rcnn_oyster_0180.h5'\n",
    "# best 4000x4000 run\n",
    "weights_path = '../logs/oyster20190209T1914/mask_rcnn_oyster_0188.h5'# Load weights\n",
    "print(\"Loading weights \", weights_path)\n",
    "model.load_weights(weights_path, by_name=True)"
   ]
  },
  {
   "cell_type": "code",
   "execution_count": 8,
   "metadata": {},
   "outputs": [],
   "source": [
    "def compute_overlaps_masks(masks1, masks2):\n",
    "    \"\"\"Computes IoU overlaps between two sets of masks.\n",
    "    masks1, masks2: [Height, Width, instances]\n",
    "    \"\"\"\n",
    "        \n",
    "    # If either set of masks is empty return empty result\n",
    "    if masks2.shape[-1] == 0:\n",
    "        overlaps = 0\n",
    "        intersections = 0\n",
    "        area2 = 0\n",
    "        masks1 = np.reshape(masks1 > .5, (-1, masks1.shape[-1])).astype(np.float32)\n",
    "        area1 = np.sum(masks1, axis=0)\n",
    "        union = area2\n",
    "        return(overlaps, intersections, union, area1, area2)\n",
    "    if masks1.shape[-1] == 0:\n",
    "        return(-1)\n",
    "    \n",
    "    # flatten masks and compute their areas\n",
    "    masks1 = np.reshape(masks1 > .5, (-1, masks1.shape[-1])).astype(np.float32)\n",
    "    masks2 = np.reshape(masks2 > .5, (-1, masks2.shape[-1])).astype(np.float32)\n",
    "    \n",
    "    # some of the masks overlap which throws off the recall values so we just take the max of all of them\n",
    "    masks2 = np.amax(masks2, axis=1)\n",
    "    \n",
    "    area1 = np.sum(masks1, axis=0)\n",
    "    area2 = np.sum(masks2, axis=0)\n",
    "\n",
    "    # intersections and union\n",
    "    intersections = np.dot(masks1.T, masks2)\n",
    "    union = area1[:, None] + area2[None] - intersections\n",
    "    overlaps = intersections / union\n",
    "\n",
    "    return(overlaps, intersections, union, area1, area2)\n",
    "\n",
    "def calculate_metrics(dataset, prediction_threshold=0.5):\n",
    "    total_gt = 0  # total ground truth reefs\n",
    "    total_predicted = 0 # total predicted reefs\n",
    "    total_tp = 0 # total true positives\n",
    "    total_fp = 0 # total false positives\n",
    "    total_px = 0 # all pixels\n",
    "    total_fn = 0\n",
    "    \n",
    "    count =0\n",
    "\n",
    "    for image_id in dataset.image_ids:\n",
    "        if count > 50:\n",
    "            break\n",
    "        # Load image and ground truth data\n",
    "        image, image_meta, gt_class_id, gt_bbox, gt_mask =\\\n",
    "            modellib.load_image_gt(dataset, config,\n",
    "                                   image_id, use_mini_mask=False)\n",
    "        molded_images = np.expand_dims(modellib.mold_image(image, config), 0)\n",
    "        # Run object detection\n",
    "        results = model.detect([image], verbose=0)\n",
    "        r = results[0]\n",
    "        \n",
    "        # filter out masks that don't meet a prediction threshold\n",
    "        r['masks'] = np.array(r['masks'][:,:, r['scores'] > prediction_threshold])\n",
    "\n",
    "        overlap, intersection, union, gt_area, mask_area = compute_overlaps_masks(gt_mask, r['masks'])\n",
    "            \n",
    "        total_tp += np.sum(intersection)\n",
    "        total_predicted += np.sum(mask_area)\n",
    "        total_gt += np.sum(gt_mask)\n",
    "        \n",
    "        #print(np.sum(gt_mask), np.sum(intersection))\n",
    "\n",
    "        total_fp += np.sum(mask_area) - np.sum(intersection) \n",
    "\n",
    "        total_fn += np.sum(gt_mask) - np.sum(intersection) \n",
    "\n",
    "        length, width, instances = gt_mask.shape\n",
    "        total_px += length * width\n",
    "        count +=1\n",
    "        \n",
    "    total_tn = total_px - total_predicted\n",
    "    return(total_tp, total_fp, total_fn, total_tn, total_gt, total_predicted, total_px)\n",
    "\n",
    "def calc_prec_recall_acc(total_tp, total_fp, total_fn, total_tn):\n",
    "    precision = total_tp / (total_tp + total_fp)\n",
    "    recall = total_tp / (total_tp + total_fn)\n",
    "    acc = (total_tp + total_tn) / total_px\n",
    "    return(precision, recall, acc)"
   ]
  },
  {
   "cell_type": "code",
   "execution_count": 74,
   "metadata": {},
   "outputs": [],
   "source": [
    "total_tp, total_fp, total_fn, total_tn, total_gt, total_predicted, total_px = calculate_metrics(dataset_test, prediction_threshold=0.95)\n",
    "precision, recall, acc = calc_prec_recall_acc(total_tp, total_fp, total_fn, total_tn)"
   ]
  },
  {
   "cell_type": "code",
   "execution_count": 75,
   "metadata": {},
   "outputs": [
    {
     "data": {
      "text/plain": [
       "(5905753.0, 10426553.0, 675161.0, 37145070.0, 6580914, 16332306.0, 53477376)"
      ]
     },
     "execution_count": 75,
     "metadata": {},
     "output_type": "execute_result"
    }
   ],
   "source": [
    "total_tp, total_fp, total_fn, total_tn, total_gt, total_predicted, total_px"
   ]
  },
  {
   "cell_type": "code",
   "execution_count": 76,
   "metadata": {},
   "outputs": [
    {
     "data": {
      "text/plain": [
       "(0.36159945815367406, 0.8974061961605941, 0.8050287097108131)"
      ]
     },
     "execution_count": 76,
     "metadata": {},
     "output_type": "execute_result"
    }
   ],
   "source": [
    "precision, recall, acc"
   ]
  },
  {
   "cell_type": "code",
   "execution_count": 63,
   "metadata": {},
   "outputs": [],
   "source": [
    "total_tp, total_fp, total_fn, total_tn, total_gt, total_predicted, total_px = calculate_metrics(dataset_test, prediction_threshold=0.95)\n",
    "precision, recall, acc = calc_prec_recall_acc(total_tp, total_fp, total_fn, total_tn)"
   ]
  },
  {
   "cell_type": "code",
   "execution_count": 64,
   "metadata": {},
   "outputs": [
    {
     "data": {
      "text/plain": [
       "(15378072.0,\n",
       " 31483038.0,\n",
       " 3587594.0,\n",
       " 124056778.0,\n",
       " 18965666,\n",
       " 46861110.0,\n",
       " 170917888)"
      ]
     },
     "execution_count": 64,
     "metadata": {},
     "output_type": "execute_result"
    }
   ],
   "source": [
    "total_tp, total_fp, total_fn, total_tn, total_gt, total_predicted, total_px"
   ]
  },
  {
   "cell_type": "code",
   "execution_count": 65,
   "metadata": {},
   "outputs": [
    {
     "data": {
      "text/plain": [
       "(0.32816277719413817, 0.8108374364496348, 0.8158002163003559)"
      ]
     },
     "execution_count": 65,
     "metadata": {},
     "output_type": "execute_result"
    }
   ],
   "source": [
    "precision, recall, acc"
   ]
  },
  {
   "cell_type": "code",
   "execution_count": 59,
   "metadata": {},
   "outputs": [
    {
     "data": {
      "text/plain": [
       "(312666.0, 686774.0, 147460.0, 5292016.0, 460126, 999440.0, 6291456)"
      ]
     },
     "execution_count": 59,
     "metadata": {},
     "output_type": "execute_result"
    }
   ],
   "source": [
    "total_tp, total_fp, total_fn, total_tn, total_gt, total_predicted, total_px"
   ]
  },
  {
   "cell_type": "code",
   "execution_count": 48,
   "metadata": {},
   "outputs": [
    {
     "data": {
      "text/plain": [
       "array([0.991, 0.992, 0.993, 0.994, 0.995, 0.996, 0.997, 0.998, 0.999,\n",
       "       1.   ])"
      ]
     },
     "execution_count": 48,
     "metadata": {},
     "output_type": "execute_result"
    }
   ],
   "source": [
    "np.arange(0.991, 1.0, 0.001)"
   ]
  },
  {
   "cell_type": "code",
   "execution_count": 77,
   "metadata": {},
   "outputs": [
    {
     "data": {
      "text/plain": [
       "array([0.9999  , 0.999905, 0.99991 , 0.999915, 0.99992 , 0.999925,\n",
       "       0.99993 , 0.999935, 0.99994 , 0.999945, 0.99995 , 0.999955,\n",
       "       0.99996 , 0.999965, 0.99997 , 0.999975, 0.99998 , 0.999985,\n",
       "       0.99999 , 0.999995])"
      ]
     },
     "execution_count": 77,
     "metadata": {},
     "output_type": "execute_result"
    }
   ],
   "source": [
    "np.arange(0.9999, 1.0, 0.000005)"
   ]
  },
  {
   "cell_type": "code",
   "execution_count": 9,
   "metadata": {},
   "outputs": [],
   "source": [
    "pra_list_extd = []\n",
    "for confidence in np.arange(0.9999, 1.0, 0.000005):\n",
    "    total_tp, total_fp, total_fn, total_tn, total_gt, total_predicted, total_px = calculate_metrics(dataset_test, prediction_threshold=confidence)\n",
    "    precision, recall, acc = calc_prec_recall_acc(total_tp, total_fp, total_fn, total_tn)\n",
    "    pra_list_extd.append([precision, recall, acc])"
   ]
  },
  {
   "cell_type": "code",
   "execution_count": 12,
   "metadata": {},
   "outputs": [
    {
     "name": "stderr",
     "output_type": "stream",
     "text": [
      "/usr/local/lib/python3.5/dist-packages/ipykernel_launcher.py:68: RuntimeWarning: invalid value encountered in long_scalars\n"
     ]
    }
   ],
   "source": [
    "pra_list = []\n",
    "for confidence in np.arange(0.0, 1.01, 0.01):\n",
    "    total_tp, total_fp, total_fn, total_tn, total_gt, total_predicted, total_px = calculate_metrics(dataset_test, prediction_threshold=confidence)\n",
    "    precision, recall, acc = calc_prec_recall_acc(total_tp, total_fp, total_fn, total_tn)\n",
    "    pra_list.append([precision, recall, acc])"
   ]
  },
  {
   "cell_type": "code",
   "execution_count": 48,
   "metadata": {},
   "outputs": [
    {
     "data": {
      "text/plain": [
       "array([0.991, 0.992, 0.993, 0.994, 0.995, 0.996, 0.997, 0.998, 0.999,\n",
       "       1.   ])"
      ]
     },
     "execution_count": 48,
     "metadata": {},
     "output_type": "execute_result"
    }
   ],
   "source": [
    "np.arange(0.991, 1.0, 0.001)"
   ]
  },
  {
   "cell_type": "code",
   "execution_count": 11,
   "metadata": {},
   "outputs": [
    {
     "data": {
      "text/plain": [
       "[<matplotlib.lines.Line2D at 0x7f94df0d3f28>]"
      ]
     },
     "execution_count": 11,
     "metadata": {},
     "output_type": "execute_result"
    },
    {
     "data": {
      "image/png": "[encoded data removed]",
      "text/plain": [
       "<Figure size 432x288 with 1 Axes>"
      ]
     },
     "metadata": {
      "needs_background": "light"
     },
     "output_type": "display_data"
    }
   ],
   "source": [
    "fig, ax = plt.subplots()\n",
    "pra_array = np.array(pra_list_extd)\n",
    "ax.set_xlabel(\"Recall\")\n",
    "ax.set_ylabel(\"Precision\")\n",
    "ax.set_xlim(0.2,0.98)\n",
    "ax.set_ylim(0.2,.8)\n",
    "ax.plot([i[1] for i in pra_array], [i[0] for i in pra_array])"
   ]
  },
  {
   "cell_type": "code",
   "execution_count": 4,
   "metadata": {},
   "outputs": [],
   "source": [
    "pra_list_extd = [[0.31131067997853573, 0.5911437049049753, 0.943934686722294],\n",
    " [0.31152446344419266, 0.5874912545700478, 0.9443366143011278],\n",
    " [0.3112435896202361, 0.5803104941571559, 0.9449449046965568],\n",
    " [0.3180217413104639, 0.5780121054689883, 0.9468598827239005],\n",
    " [0.3208470090080393, 0.5689563248743349, 0.9483678264002646],\n",
    " [0.34103150316432435, 0.5660200131315994, 0.9531106948852539],\n",
    " [0.3560056372425254, 0.5564870460000646, 0.9568429147043536],\n",
    " [0.3713983133252622, 0.5412988802261792, 0.9607224310598066],\n",
    " [0.404923888457071, 0.5323249030378484, 0.966461181640625],\n",
    " [0.44277291639457433, 0.5108687306479333, 0.972436628034038],\n",
    " [0.4993575167488211, 0.46960034730569, 0.9798155753843246],\n",
    " [0.5456750466759681, 0.4066540612879731, 0.9854845846852949],\n",
    " [0.6443232515139692, 0.3815834699713329, 0.9909694733158234],\n",
    " [0.6945810864962594, 0.3159211673489597, 0.9940444269487935],\n",
    " [0.7725959721397333, 0.2875023769630127, 0.9963720690819525],\n",
    " [0.7776271384534471, 0.19097435750241284, 0.9976586987895351],\n",
    " [0.771854818523154, 0.11063408403506066, 0.9985980372275075],\n",
    " [0.7269654462488669, 0.0679054381325861, 0.9989065970143964],\n",
    " [0.6016711273581826, 0.013227754317103012, 0.9996245599562122],\n",
    " [0.4959598165538327, 0.0032592199255876034, 0.9998579948179184]]"
   ]
  },
  {
   "cell_type": "code",
   "execution_count": 7,
   "metadata": {},
   "outputs": [
    {
     "data": {
      "text/plain": [
       "[<matplotlib.lines.Line2D at 0x7f97c3cfef98>]"
      ]
     },
     "execution_count": 7,
     "metadata": {},
     "output_type": "execute_result"
    },
    {
     "data": {
      "image/png": "[encoded data removed]",
      "text/plain": [
       "<Figure size 432x288 with 1 Axes>"
      ]
     },
     "metadata": {
      "needs_background": "light"
     },
     "output_type": "display_data"
    }
   ],
   "source": [
    "import matplotlib.pyplot as plt\n",
    "import numpy as np\n",
    "fig, ax = plt.subplots()\n",
    "pra_array = np.array(pra_list_extd)\n",
    "ax.set_xlabel(\"Recall\")\n",
    "ax.set_ylabel(\"Precision\")\n",
    "ax.set_xlim(0.2,0.6)\n",
    "ax.set_ylim(0.2,.8)\n",
    "ax.plot([i[1] for i in pra_array], [i[0] for i in pra_array])"
   ]
  },
  {
   "cell_type": "code",
   "execution_count": 12,
   "metadata": {},
   "outputs": [
    {
     "data": {
      "text/plain": [
       "[[0.31131067997853573, 0.5911437049049753, 0.943934686722294],\n",
       " [0.31152446344419266, 0.5874912545700478, 0.9443366143011278],\n",
       " [0.3112435896202361, 0.5803104941571559, 0.9449449046965568],\n",
       " [0.3180217413104639, 0.5780121054689883, 0.9468598827239005],\n",
       " [0.3208470090080393, 0.5689563248743349, 0.9483678264002646],\n",
       " [0.34103150316432435, 0.5660200131315994, 0.9531106948852539],\n",
       " [0.3560056372425254, 0.5564870460000646, 0.9568429147043536],\n",
       " [0.3713983133252622, 0.5412988802261792, 0.9607224310598066],\n",
       " [0.404923888457071, 0.5323249030378484, 0.966461181640625],\n",
       " [0.44277291639457433, 0.5108687306479333, 0.972436628034038],\n",
       " [0.4993575167488211, 0.46960034730569, 0.9798155753843246],\n",
       " [0.5456750466759681, 0.4066540612879731, 0.9854845846852949],\n",
       " [0.6443232515139692, 0.3815834699713329, 0.9909694733158234],\n",
       " [0.6945810864962594, 0.3159211673489597, 0.9940444269487935],\n",
       " [0.7725959721397333, 0.2875023769630127, 0.9963720690819525],\n",
       " [0.7776271384534471, 0.19097435750241284, 0.9976586987895351],\n",
       " [0.771854818523154, 0.11063408403506066, 0.9985980372275075],\n",
       " [0.7269654462488669, 0.0679054381325861, 0.9989065970143964],\n",
       " [0.6016711273581826, 0.013227754317103012, 0.9996245599562122],\n",
       " [0.4959598165538327, 0.0032592199255876034, 0.9998579948179184]]"
      ]
     },
     "execution_count": 12,
     "metadata": {},
     "output_type": "execute_result"
    }
   ],
   "source": [
    "pra_list_extd"
   ]
  },
  {
   "cell_type": "code",
   "execution_count": 18,
   "metadata": {},
   "outputs": [
    {
     "data": {
      "text/plain": [
       "<matplotlib.collections.PathCollection at 0x7fb3447fd390>"
      ]
     },
     "execution_count": 18,
     "metadata": {},
     "output_type": "execute_result"
    },
    {
     "data": {
      "image/png": "[encoded data removed]",
      "text/plain": [
       "<Figure size 432x288 with 1 Axes>"
      ]
     },
     "metadata": {
      "needs_background": "light"
     },
     "output_type": "display_data"
    }
   ],
   "source": [
    "fig, ax = plt.subplots()\n",
    "pra_array = np.array(pra_list)\n",
    "ax.set_xlabel(\"Recall\")\n",
    "ax.set_ylabel(\"Precision\")\n",
    "ax.set_xlim(0.0,1.5)\n",
    "ax.set_ylim(0.0,1.5)\n",
    "ax.scatter([i[1] for i in pra_array], [i[0] for i in pra_array])"
   ]
  },
  {
   "cell_type": "code",
   "execution_count": 15,
   "metadata": {},
   "outputs": [
    {
     "data": {
      "text/plain": [
       "[[0.34352505276711676, 1.0519980157828361, 0.7769227700730774],\n",
       " [0.34352505276711676, 1.0519980157828361, 0.7769227700730774],\n",
       " [0.34352505276711676, 1.0519980157828361, 0.7769227700730774],\n",
       " [0.34352505276711676, 1.0519980157828361, 0.7769227700730774],\n",
       " [0.34352505276711676, 1.0519980157828361, 0.7769227700730774],\n",
       " [0.34352505276711676, 1.0519980157828361, 0.7769227700730774],\n",
       " [0.34352505276711676, 1.0519980157828361, 0.7769227700730774],\n",
       " [0.34352505276711676, 1.0519980157828361, 0.7769227700730774],\n",
       " [0.34352505276711676, 1.0519980157828361, 0.7769227700730774],\n",
       " [0.34352505276711676, 1.0519980157828361, 0.7769227700730774],\n",
       " [0.34352505276711676, 1.0519980157828361, 0.7769227700730774],\n",
       " [0.34352505276711676, 1.0519980157828361, 0.7769227700730774],\n",
       " [0.34352505276711676, 1.0519980157828361, 0.7769227700730774],\n",
       " [0.34352505276711676, 1.0519980157828361, 0.7769227700730774],\n",
       " [0.34352505276711676, 1.0519980157828361, 0.7769227700730774],\n",
       " [0.34352505276711676, 1.0519980157828361, 0.7769227700730774],\n",
       " [0.34352505276711676, 1.0519980157828361, 0.7769227700730774],\n",
       " [0.34352505276711676, 1.0519980157828361, 0.7769227700730774],\n",
       " [0.34352505276711676, 1.0519980157828361, 0.7769227700730774],\n",
       " [0.34352505276711676, 1.0519980157828361, 0.7769227700730774],\n",
       " [0.34352505276711676, 1.0519980157828361, 0.7769227700730774],\n",
       " [0.34352505276711676, 1.0519980157828361, 0.7769227700730774],\n",
       " [0.34352505276711676, 1.0519980157828361, 0.7769227700730774],\n",
       " [0.34352505276711676, 1.0519980157828361, 0.7769227700730774],\n",
       " [0.34352505276711676, 1.0519980157828361, 0.7769227700730774],\n",
       " [0.34352505276711676, 1.0519980157828361, 0.7769227700730774],\n",
       " [0.34352505276711676, 1.0519980157828361, 0.7769227700730774],\n",
       " [0.34352505276711676, 1.0519980157828361, 0.7769227700730774],\n",
       " [0.34352505276711676, 1.0519980157828361, 0.7769227700730774],\n",
       " [0.34352505276711676, 1.0519980157828361, 0.7769227700730774],\n",
       " [0.34352505276711676, 1.0519980157828361, 0.7769227700730774],\n",
       " [0.34352505276711676, 1.0519980157828361, 0.7769227700730774],\n",
       " [0.34352505276711676, 1.0519980157828361, 0.7769227700730774],\n",
       " [0.34352505276711676, 1.0519980157828361, 0.7769227700730774],\n",
       " [0.34352505276711676, 1.0519980157828361, 0.7769227700730774],\n",
       " [0.34352505276711676, 1.0519980157828361, 0.7769227700730774],\n",
       " [0.34352505276711676, 1.0519980157828361, 0.7769227700730774],\n",
       " [0.34352505276711676, 1.0519980157828361, 0.7769227700730774],\n",
       " [0.34352505276711676, 1.0519980157828361, 0.7769227700730774],\n",
       " [0.34352505276711676, 1.0519980157828361, 0.7769227700730774],\n",
       " [0.34352505276711676, 1.0519980157828361, 0.7769227700730774],\n",
       " [0.34352505276711676, 1.0519980157828361, 0.7769227700730774],\n",
       " [0.34352505276711676, 1.0519980157828361, 0.7769227700730774],\n",
       " [0.34352505276711676, 1.0519980157828361, 0.7769227700730774],\n",
       " [0.34352505276711676, 1.0519980157828361, 0.7769227700730774],\n",
       " [0.34352505276711676, 1.0519980157828361, 0.7769227700730774],\n",
       " [0.34352505276711676, 1.0519980157828361, 0.7769227700730774],\n",
       " [0.34352505276711676, 1.0519980157828361, 0.7769227700730774],\n",
       " [0.34352505276711676, 1.0519980157828361, 0.7769227700730774],\n",
       " [0.34352505276711676, 1.0519980157828361, 0.7769227700730774],\n",
       " [0.34352505276711676, 1.0519980157828361, 0.7769227700730774],\n",
       " [0.34352505276711676, 1.0519980157828361, 0.7769227700730774],\n",
       " [0.34352505276711676, 1.0519980157828361, 0.7769227700730774],\n",
       " [0.34352505276711676, 1.0519980157828361, 0.7769227700730774],\n",
       " [0.34352505276711676, 1.0519980157828361, 0.7769227700730774],\n",
       " [0.34352505276711676, 1.0519980157828361, 0.7769227700730774],\n",
       " [0.34352505276711676, 1.0519980157828361, 0.7769227700730774],\n",
       " [0.34352505276711676, 1.0519980157828361, 0.7769227700730774],\n",
       " [0.34352505276711676, 1.0519980157828361, 0.7769227700730774],\n",
       " [0.34352505276711676, 1.0519980157828361, 0.7769227700730774],\n",
       " [0.34352505276711676, 1.0519980157828361, 0.7769227700730774],\n",
       " [0.34352505276711676, 1.0519980157828361, 0.7769227700730774],\n",
       " [0.34352505276711676, 1.0519980157828361, 0.7769227700730774],\n",
       " [0.34352505276711676, 1.0519980157828361, 0.7769227700730774],\n",
       " [0.34352505276711676, 1.0519980157828361, 0.7769227700730774],\n",
       " [0.34352505276711676, 1.0519980157828361, 0.7769227700730774],\n",
       " [0.34352505276711676, 1.0519980157828361, 0.7769227700730774],\n",
       " [0.34352505276711676, 1.0519980157828361, 0.7769227700730774],\n",
       " [0.34352505276711676, 1.0519980157828361, 0.7769227700730774],\n",
       " [0.34352505276711676, 1.0519980157828361, 0.7769227700730774],\n",
       " [0.34352505276711676, 1.0519980157828361, 0.7769227700730774],\n",
       " [0.34352505276711676, 1.0519980157828361, 0.7769227700730774],\n",
       " [0.34352505276711676, 1.0519980157828361, 0.7769227700730774],\n",
       " [0.34352505276711676, 1.0519980157828361, 0.7769227700730774],\n",
       " [0.34352505276711676, 1.0519980157828361, 0.7769227700730774],\n",
       " [0.34352505276711676, 1.0519980157828361, 0.7769227700730774],\n",
       " [0.34352505276711676, 1.0519980157828361, 0.7769227700730774],\n",
       " [0.34352505276711676, 1.0519980157828361, 0.7769227700730774],\n",
       " [0.34352505276711676, 1.0519980157828361, 0.7769227700730774],\n",
       " [0.34352505276711676, 1.0519980157828361, 0.7769227700730774],\n",
       " [0.34352505276711676, 1.0519980157828361, 0.7769227700730774],\n",
       " [0.34352505276711676, 1.0519980157828361, 0.7769227700730774],\n",
       " [0.34352505276711676, 1.0519980157828361, 0.7769227700730774],\n",
       " [0.34352505276711676, 1.0519980157828361, 0.7769227700730774],\n",
       " [0.34352505276711676, 1.0519980157828361, 0.7769227700730774],\n",
       " [0.34352505276711676, 1.0519980157828361, 0.7769227700730774],\n",
       " [0.34352505276711676, 1.0519980157828361, 0.7769227700730774],\n",
       " [0.34352505276711676, 1.0519980157828361, 0.7769227700730774],\n",
       " [0.34352505276711676, 1.0519980157828361, 0.7769227700730774],\n",
       " [0.34352505276711676, 1.0519980157828361, 0.7769227700730774],\n",
       " [0.34352505276711676, 1.0519980157828361, 0.7769227700730774],\n",
       " [0.34352505276711676, 1.0519980157828361, 0.7769227700730774],\n",
       " [0.34352505276711676, 1.0519980157828361, 0.7769227700730774],\n",
       " [0.34352505276711676, 1.0519980157828361, 0.7769227700730774],\n",
       " [0.34352505276711676, 1.0519980157828361, 0.7769227700730774],\n",
       " [0.34352505276711676, 1.0519980157828361, 0.7769227700730774],\n",
       " [0.34352505276711676, 1.0519980157828361, 0.7769227700730774],\n",
       " [0.34352505276711676, 1.0519980157828361, 0.7769227700730774],\n",
       " [0.34352505276711676, 1.0519980157828361, 0.7769227700730774],\n",
       " [0.34352505276711676, 1.0519980157828361, 0.7769227700730774],\n",
       " [nan, 0.0, 1.0]]"
      ]
     },
     "execution_count": 15,
     "metadata": {},
     "output_type": "execute_result"
    }
   ],
   "source": [
    "pra_list"
   ]
  },
  {
   "cell_type": "code",
   "execution_count": 30,
   "metadata": {},
   "outputs": [
    {
     "data": {
      "text/plain": [
       "[<matplotlib.lines.Line2D at 0x7faa4fb6f1d0>]"
      ]
     },
     "execution_count": 30,
     "metadata": {},
     "output_type": "execute_result"
    },
    {
     "data": {
      "image/png": "[encoded data removed]",
      "text/plain": [
       "<Figure size 432x288 with 1 Axes>"
      ]
     },
     "metadata": {
      "needs_background": "light"
     },
     "output_type": "display_data"
    }
   ],
   "source": [
    "fig, ax = plt.subplots()\n",
    "pra_array = np.array(pra_list)\n",
    "ax.set_xlim(0,1)\n",
    "ax.set_ylim(0.9,1)\n",
    "ax.plot(np.arange(0.0, 1.01, 0.01),[i[2] for i in pra_array])"
   ]
  },
  {
   "cell_type": "code",
   "execution_count": 323,
   "metadata": {},
   "outputs": [
    {
     "data": {
      "text/plain": [
       "(0.8720170680207316, 0.48234950964041395, 0.9950410813996287)"
      ]
     },
     "execution_count": 323,
     "metadata": {},
     "output_type": "execute_result"
    }
   ],
   "source": [
    "precision, recall, acc # 0.999"
   ]
  },
  {
   "cell_type": "code",
   "execution_count": 321,
   "metadata": {},
   "outputs": [
    {
     "data": {
      "text/plain": [
       "(0.7710985041286379, 0.7718812509424439, 0.983949545657996)"
      ]
     },
     "execution_count": 321,
     "metadata": {},
     "output_type": "execute_result"
    }
   ],
   "source": [
    "precision, recall, acc # 0.99"
   ]
  },
  {
   "cell_type": "code",
   "execution_count": 319,
   "metadata": {},
   "outputs": [
    {
     "data": {
      "text/plain": [
       "(0.7368478113513699, 0.7949262846476389, 0.9801136941620798)"
      ]
     },
     "execution_count": 319,
     "metadata": {},
     "output_type": "execute_result"
    }
   ],
   "source": [
    "precision, recall, acc # 0.98"
   ]
  },
  {
   "cell_type": "code",
   "execution_count": 317,
   "metadata": {},
   "outputs": [
    {
     "data": {
      "text/plain": [
       "(0.5923847015295083, 0.815206747681253, 0.9607072454510313)"
      ]
     },
     "execution_count": 317,
     "metadata": {},
     "output_type": "execute_result"
    }
   ],
   "source": [
    "precision, recall, acc # 0.95"
   ]
  },
  {
   "cell_type": "code",
   "execution_count": 313,
   "metadata": {},
   "outputs": [
    {
     "data": {
      "text/plain": [
       "(0.5520799286922744, 0.8222984634787672, 0.9532667362328732)"
      ]
     },
     "execution_count": 313,
     "metadata": {},
     "output_type": "execute_result"
    }
   ],
   "source": [
    "precision, recall, acc # 0.9"
   ]
  },
  {
   "cell_type": "code",
   "execution_count": 303,
   "metadata": {},
   "outputs": [
    {
     "data": {
      "text/plain": [
       "(0.5213232530339293, 0.8502993851398447, 0.9453103470079827)"
      ]
     },
     "execution_count": 303,
     "metadata": {},
     "output_type": "execute_result"
    }
   ],
   "source": [
    "precision, recall, acc # 0.5"
   ]
  },
  {
   "cell_type": "code",
   "execution_count": null,
   "metadata": {},
   "outputs": [],
   "source": [
    "precision, recall, acc # 0.1"
   ]
  },
  {
   "cell_type": "code",
   "execution_count": null,
   "metadata": {},
   "outputs": [],
   "source": []
  },
  {
   "cell_type": "code",
   "execution_count": 295,
   "metadata": {},
   "outputs": [
    {
     "name": "stdout",
     "output_type": "stream",
     "text": [
      "mAP:  1.0\n"
     ]
    }
   ],
   "source": [
    "#image_ids = np.random.choice(dataset_test.image_ids, 53)\n",
    "\n",
    "APs = []\n",
    "AP_ranges = []\n",
    "precisions_list = []\n",
    "recalls_list = []\n",
    "\n",
    "total_gt = 0  # total ground truth reefs\n",
    "total_predicted = 0 # total predicted reefs\n",
    "total_tp = 0 # total true positives\n",
    "\n",
    "for image_id in dataset_test.image_ids:\n",
    "    # Load image and ground truth data\n",
    "    image, image_meta, gt_class_id, gt_bbox, gt_mask =\\\n",
    "        modellib.load_image_gt(dataset_test, config,\n",
    "                               image_id, use_mini_mask=False)\n",
    "    molded_images = np.expand_dims(modellib.mold_image(image, config), 0)\n",
    "    # Run object detection\n",
    "    results = model.detect([image], verbose=0)\n",
    "    r = results[0]\n",
    "\n",
    "    # Compute AP\n",
    "    AP, precisions, recalls, overlaps =\\\n",
    "        utils.compute_ap(gt_bbox, gt_class_id, gt_mask,\n",
    "                         r[\"rois\"], r[\"class_ids\"], r[\"scores\"], r['masks'])\n",
    "    APs.append(AP)\n",
    "    precisions_list.append(precisions)\n",
    "    recalls_list.append(recalls)\n",
    "    \"\"\"\n",
    "    AP_range = utils.compute_ap_range(gt_bbox, gt_class_id, gt_mask,\n",
    "                     r[\"rois\"], r[\"class_ids\"], r[\"scores\"], r['masks'],\n",
    "                     iou_thresholds=None, verbose=0)\n",
    "    AP_ranges.append(AP_range)\n",
    "    \"\"\"\n",
    "    gt_match, pred_match, overlaps = utils.compute_matches(gt_bbox, gt_class_id, gt_mask,\n",
    "                    r[\"rois\"], r[\"class_ids\"], r[\"scores\"], r['masks'],\n",
    "                    iou_threshold=0.5, score_threshold=0.5)\n",
    "    \n",
    "    total_gt += gt_match.shape[0]  # total ground truth reefs\n",
    "    total_predicted += pred_match.shape[0] # total predicted reefs\n",
    "    total_tp += (pred_match > -1).sum() # total true positives\n",
    "    \n",
    "    break\n",
    "\n",
    "print(\"mAP: \", np.mean(APs))"
   ]
  },
  {
   "cell_type": "code",
   "execution_count": 296,
   "metadata": {},
   "outputs": [
    {
     "data": {
      "text/plain": [
       "array([[[False, False, False, False, False, False],\n",
       "        [False, False, False, False, False, False],\n",
       "        [False, False, False, False, False, False],\n",
       "        ...,\n",
       "        [False, False, False, False, False, False],\n",
       "        [False, False, False, False, False, False],\n",
       "        [False, False, False, False, False, False]],\n",
       "\n",
       "       [[False, False, False, False, False, False],\n",
       "        [False, False, False, False, False, False],\n",
       "        [False, False, False, False, False, False],\n",
       "        ...,\n",
       "        [False, False, False, False, False, False],\n",
       "        [False, False, False, False, False, False],\n",
       "        [False, False, False, False, False, False]],\n",
       "\n",
       "       [[False, False, False, False, False, False],\n",
       "        [False, False, False, False, False, False],\n",
       "        [False, False, False, False, False, False],\n",
       "        ...,\n",
       "        [False, False, False, False, False, False],\n",
       "        [False, False, False, False, False, False],\n",
       "        [False, False, False, False, False, False]],\n",
       "\n",
       "       ...,\n",
       "\n",
       "       [[False, False, False, False, False, False],\n",
       "        [False, False, False, False, False, False],\n",
       "        [False, False, False, False, False, False],\n",
       "        ...,\n",
       "        [False, False, False, False, False, False],\n",
       "        [False, False, False, False, False, False],\n",
       "        [False, False, False, False, False, False]],\n",
       "\n",
       "       [[False, False, False, False, False, False],\n",
       "        [False, False, False, False, False, False],\n",
       "        [False, False, False, False, False, False],\n",
       "        ...,\n",
       "        [False, False, False, False, False, False],\n",
       "        [False, False, False, False, False, False],\n",
       "        [False, False, False, False, False, False]],\n",
       "\n",
       "       [[False, False, False, False, False, False],\n",
       "        [False, False, False, False, False, False],\n",
       "        [False, False, False, False, False, False],\n",
       "        ...,\n",
       "        [False, False, False, False, False, False],\n",
       "        [False, False, False, False, False, False],\n",
       "        [False, False, False, False, False, False]]])"
      ]
     },
     "execution_count": 296,
     "metadata": {},
     "output_type": "execute_result"
    }
   ],
   "source": [
    "r['masks']"
   ]
  },
  {
   "cell_type": "code",
   "execution_count": null,
   "metadata": {},
   "outputs": [],
   "source": [
    "r['masks'][0]"
   ]
  },
  {
   "cell_type": "code",
   "execution_count": 292,
   "metadata": {},
   "outputs": [],
   "source": [
    "r['masks'] = np.array(r['masks'][:,:, r['scores'] > 0.6])"
   ]
  },
  {
   "cell_type": "code",
   "execution_count": 38,
   "metadata": {},
   "outputs": [
    {
     "data": {
      "text/plain": [
       "(262, 373, 167)"
      ]
     },
     "execution_count": 38,
     "metadata": {},
     "output_type": "execute_result"
    }
   ],
   "source": [
    "total_gt, total_predicted, total_tp"
   ]
  },
  {
   "cell_type": "code",
   "execution_count": 39,
   "metadata": {},
   "outputs": [],
   "source": [
    "total_fp = total_predicted - total_tp\n",
    "total_fn = total_gt - total_tp\n",
    "\n",
    "# Precision is defined as the number of true positives over the number of true positives plus the number of false positives.\n",
    "\n",
    "precision = total_tp / (total_tp + total_fp)\n",
    "\n",
    "# Recall is defined as the number of true positives over the number of true positives plus the number of false negatives.\n",
    "recall = total_tp / (total_tp + total_fn )"
   ]
  },
  {
   "cell_type": "code",
   "execution_count": 40,
   "metadata": {},
   "outputs": [
    {
     "data": {
      "text/plain": [
       "(0.4477211796246649, 0.6374045801526718)"
      ]
     },
     "execution_count": 40,
     "metadata": {},
     "output_type": "execute_result"
    }
   ],
   "source": [
    "precision, recall # with iou_thresh = 0.5 and score_thresh = 0.5"
   ]
  },
  {
   "cell_type": "code",
   "execution_count": 28,
   "metadata": {},
   "outputs": [
    {
     "data": {
      "text/plain": [
       "(0.4477211796246649, 0.6374045801526718)"
      ]
     },
     "execution_count": 28,
     "metadata": {},
     "output_type": "execute_result"
    }
   ],
   "source": [
    "precision, recall # with iou_thresh = 0.5 and score_thresh = 0.1"
   ]
  },
  {
   "cell_type": "code",
   "execution_count": 32,
   "metadata": {},
   "outputs": [
    {
     "data": {
      "text/plain": [
       "(0.5040214477211796, 0.7175572519083969)"
      ]
     },
     "execution_count": 32,
     "metadata": {},
     "output_type": "execute_result"
    }
   ],
   "source": [
    "precision, recall # with iou_thresh = 0.05 and score_thresh = 0.1"
   ]
  },
  {
   "cell_type": "code",
   "execution_count": 24,
   "metadata": {},
   "outputs": [
    {
     "data": {
      "text/plain": [
       "(0.5040214477211796, 0.7175572519083969)"
      ]
     },
     "execution_count": 24,
     "metadata": {},
     "output_type": "execute_result"
    }
   ],
   "source": [
    "precision, recall # with iou_thresh = 0.1 and score_thresh = 0.1"
   ]
  },
  {
   "cell_type": "code",
   "execution_count": 36,
   "metadata": {},
   "outputs": [
    {
     "data": {
      "text/plain": [
       "(0.4932975871313673, 0.7022900763358778)"
      ]
     },
     "execution_count": 36,
     "metadata": {},
     "output_type": "execute_result"
    }
   ],
   "source": [
    "precision, recall # with iou_thresh = 0.1 and score_thresh = 0.25"
   ]
  },
  {
   "cell_type": "code",
   "execution_count": 19,
   "metadata": {},
   "outputs": [
    {
     "data": {
      "text/plain": [
       "(0.4477211796246649, 0.6374045801526718)"
      ]
     },
     "execution_count": 19,
     "metadata": {},
     "output_type": "execute_result"
    }
   ],
   "source": [
    "precision, recall # with iou_thresh = 0.1 and score_thresh = 0.5"
   ]
  },
  {
   "cell_type": "code",
   "execution_count": 45,
   "metadata": {},
   "outputs": [],
   "source": [
    "pre_flat = np.concatenate(precisions_list, axis=0 )"
   ]
  },
  {
   "cell_type": "code",
   "execution_count": 46,
   "metadata": {},
   "outputs": [],
   "source": [
    "rec_flat = np.concatenate(recalls_list, axis=0 )"
   ]
  },
  {
   "cell_type": "code",
   "execution_count": 49,
   "metadata": {},
   "outputs": [
    {
     "data": {
      "image/png": "[encoded data removed]",
      "text/plain": [
       "<Figure size 432x288 with 1 Axes>"
      ]
     },
     "metadata": {
      "needs_background": "light"
     },
     "output_type": "display_data"
    }
   ],
   "source": [
    "plot_precision_recall_custom(APs[0], pre_flat, rec_flat)"
   ]
  },
  {
   "cell_type": "code",
   "execution_count": 48,
   "metadata": {},
   "outputs": [],
   "source": [
    "def plot_precision_recall_custom(AP, precisions, recalls):\n",
    "    \"\"\"Draw the precision-recall curve.\n",
    "    AP: Average precision at IoU >= 0.5\n",
    "    precisions: list of precision values\n",
    "    recalls: list of recall values\n",
    "    \"\"\"\n",
    "    # Plot the Precision-Recall curve\n",
    "    _, ax = plt.subplots(1)\n",
    "    #ax.set_title(\"Precision-Recall Curve. AP@50 = {:.3f}\".format(AP))\n",
    "    ax.set_ylim(-0.1, 1.1)\n",
    "    ax.set_xlim(0.1, 1.1)\n",
    "    _ = ax.plot(recalls, precisions)"
   ]
  },
  {
   "cell_type": "code",
   "execution_count": 29,
   "metadata": {},
   "outputs": [
    {
     "data": {
      "text/plain": [
       "0.6666666666666666"
      ]
     },
     "execution_count": 29,
     "metadata": {},
     "output_type": "execute_result"
    }
   ],
   "source": [
    "APs[-1]"
   ]
  },
  {
   "cell_type": "code",
   "execution_count": null,
   "metadata": {},
   "outputs": [],
   "source": [
    "So I can calculate total precision"
   ]
  },
  {
   "cell_type": "code",
   "execution_count": 56,
   "metadata": {},
   "outputs": [],
   "source": [
    "def calculate_metrics(dataset, score_threshold=0.5, iou_threshold=0.5):\n",
    "    \n",
    "    total_gt = 0  # total ground truth reefs\n",
    "    total_predicted = 0 # total predicted reefs\n",
    "    total_tp = 0 # total true positives\n",
    "\n",
    "    for image_id in dataset.image_ids:\n",
    "        # Load image and ground truth data\n",
    "        image, image_meta, gt_class_id, gt_bbox, gt_mask =\\\n",
    "            modellib.load_image_gt(dataset, config,\n",
    "                                   image_id, use_mini_mask=False)\n",
    "        molded_images = np.expand_dims(modellib.mold_image(image, config), 0)\n",
    "        # Run object detection\n",
    "        results = model.detect([image], verbose=0)\n",
    "        r = results[0]\n",
    "\n",
    "        gt_match, pred_match, overlaps = utils.compute_matches(gt_bbox, gt_class_id, gt_mask,\n",
    "                        r[\"rois\"], r[\"class_ids\"], r[\"scores\"], r['masks'],\n",
    "                        iou_threshold=iou_threshold, score_threshold=score_threshold)\n",
    "\n",
    "        total_gt += gt_match.shape[0]  # total ground truth reefs\n",
    "        total_predicted += pred_match.shape[0] # total predicted reefs\n",
    "        total_tp += (pred_match > -1).sum() # total true positives\n",
    "\n",
    "    total_fp = total_predicted - total_tp\n",
    "    total_fn = total_gt - total_tp\n",
    "\n",
    "    # Precision is defined as the number of true positives over the number of true positives plus the number of false positives.\n",
    "    precision = total_tp / (total_tp + total_fp)\n",
    "\n",
    "    # Recall is defined as the number of true positives over the number of true positives plus the number of false negatives.\n",
    "    recall = total_tp / (total_tp + total_fn )\n",
    "    \n",
    "    return(total_tp, total_predicted, total_fp, precision, recall)"
   ]
  },
  {
   "cell_type": "code",
   "execution_count": 67,
   "metadata": {},
   "outputs": [],
   "source": [
    "def calculate_roc(dataset, score_thresholds=None, iou_threshold=0.5):\n",
    "    # The ROC plot uses 1 – specificity on the x-axis and sensitivity on the y-axis\n",
    "    # False positive rate (FPR) is identical with 1 – specificity, and true positive rate (TPR) \n",
    "    # is identical with sensitivity.\n",
    "    \n",
    "    score_thresholds = score_thresholds or np.arange(0.0, 0.1, 0.05)\n",
    "    \n",
    "    fprs = []\n",
    "    tprs = []\n",
    "    \n",
    "    for threshold in score_thresholds:\n",
    "    \n",
    "        total_tp, total_predicted, total_fp, precision, recall = calculate_metrics(dataset, \n",
    "                                                                                   score_threshold=threshold, \n",
    "                                                                                   iou_threshold=iou_threshold)\n",
    "        fpr = total_fp / total_predicted\n",
    "        tpr = recall\n",
    "        \n",
    "        fprs.append(fpr)\n",
    "        tprs.append(tpr)\n",
    "    \n",
    "    return(tprs, fprs)\n",
    "    \n",
    "    "
   ]
  },
  {
   "cell_type": "code",
   "execution_count": 68,
   "metadata": {},
   "outputs": [],
   "source": [
    "true_pos_low, false_pos_low = calculate_roc(dataset_test)"
   ]
  },
  {
   "cell_type": "code",
   "execution_count": 69,
   "metadata": {},
   "outputs": [
    {
     "data": {
      "text/plain": [
       "([0.6374045801526718, 0.6374045801526718],\n",
       " [0.5522788203753352, 0.5522788203753352])"
      ]
     },
     "execution_count": 69,
     "metadata": {},
     "output_type": "execute_result"
    }
   ],
   "source": [
    "true_pos_low, false_pos_low"
   ]
  },
  {
   "cell_type": "code",
   "execution_count": 63,
   "metadata": {},
   "outputs": [
    {
     "data": {
      "text/plain": [
       "array([0.1 , 0.15, 0.2 , 0.25, 0.3 , 0.35, 0.4 , 0.45, 0.5 , 0.55, 0.6 ,\n",
       "       0.65, 0.7 , 0.75, 0.8 , 0.85, 0.9 , 0.95])"
      ]
     },
     "execution_count": 63,
     "metadata": {},
     "output_type": "execute_result"
    }
   ],
   "source": [
    "np.arange(0.1, 1.0, 0.05, score_threholds=np.arange(0.0, 0.1, 0.05))"
   ]
  },
  {
   "cell_type": "code",
   "execution_count": 59,
   "metadata": {},
   "outputs": [
    {
     "data": {
      "text/plain": [
       "[0.6374045801526718,\n",
       " 0.6374045801526718,\n",
       " 0.6374045801526718,\n",
       " 0.6374045801526718,\n",
       " 0.6374045801526718,\n",
       " 0.6374045801526718,\n",
       " 0.6374045801526718,\n",
       " 0.6374045801526718,\n",
       " 0.6374045801526718,\n",
       " 0.6183206106870229,\n",
       " 0.5992366412213741,\n",
       " 0.5229007633587787,\n",
       " 0.4770992366412214,\n",
       " 0.4198473282442748,\n",
       " 0.2786259541984733,\n",
       " 0.16030534351145037,\n",
       " 0.061068702290076333,\n",
       " 0.0]"
      ]
     },
     "execution_count": 59,
     "metadata": {},
     "output_type": "execute_result"
    }
   ],
   "source": [
    "true_pos"
   ]
  },
  {
   "cell_type": "code",
   "execution_count": 62,
   "metadata": {},
   "outputs": [
    {
     "data": {
      "text/plain": [
       "[0.5522788203753352,\n",
       " 0.5522788203753352,\n",
       " 0.5522788203753352,\n",
       " 0.5522788203753352,\n",
       " 0.5522788203753352,\n",
       " 0.5522788203753352,\n",
       " 0.5522788203753352,\n",
       " 0.5522788203753352,\n",
       " 0.5522788203753352,\n",
       " 0.5656836461126006,\n",
       " 0.579088471849866,\n",
       " 0.6327077747989276,\n",
       " 0.6648793565683646,\n",
       " 0.7050938337801609,\n",
       " 0.8042895442359249,\n",
       " 0.8873994638069705,\n",
       " 0.9571045576407506,\n",
       " 1.0]"
      ]
     },
     "execution_count": 62,
     "metadata": {},
     "output_type": "execute_result"
    }
   ],
   "source": [
    "false_pos"
   ]
  },
  {
   "cell_type": "code",
   "execution_count": 76,
   "metadata": {},
   "outputs": [
    {
     "data": {
      "text/plain": [
       "[<matplotlib.lines.Line2D at 0x7f3752261ba8>]"
      ]
     },
     "execution_count": 76,
     "metadata": {},
     "output_type": "execute_result"
    },
    {
     "data": {
      "image/png": "[encoded data removed]",
      "text/plain": [
       "<Figure size 432x288 with 1 Axes>"
      ]
     },
     "metadata": {
      "needs_background": "light"
     },
     "output_type": "display_data"
    }
   ],
   "source": [
    "fig, ax = plt.subplots()\n",
    "ax.set_xlim(0,1)\n",
    "ax.set_ylim(0,1)\n",
    "ax.set_xlabel(\"False Positive Rate\")\n",
    "ax.set_ylabel(\"True Positive Rate\")\n",
    "\n",
    "ax.plot(list(reversed(false_pos)), true_pos)"
   ]
  },
  {
   "cell_type": "code",
   "execution_count": null,
   "metadata": {},
   "outputs": [],
   "source": []
  },
  {
   "cell_type": "code",
   "execution_count": null,
   "metadata": {},
   "outputs": [],
   "source": []
  }
 ],
 "metadata": {
  "kernelspec": {
   "display_name": "Python 3",
   "language": "python",
   "name": "python3"
  },
  "language_info": {
   "codemirror_mode": {
    "name": "ipython",
    "version": 3
   },
   "file_extension": ".py",
   "mimetype": "text/x-python",
   "name": "python",
   "nbconvert_exporter": "python",
   "pygments_lexer": "ipython3",
   "version": "3.5.2"
  }
 },
 "nbformat": 4,
 "nbformat_minor": 2
}
