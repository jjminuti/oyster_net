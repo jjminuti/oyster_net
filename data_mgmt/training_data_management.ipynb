{
 "cells": [
  {
   "cell_type": "markdown",
   "metadata": {},
   "source": [
    "### Code for taking the output of img_processing.ipynb managing all the .json label files correctly and shuffling it into train, val, and test sections. "
   ]
  },
  {
   "cell_type": "code",
   "execution_count": 1,
   "metadata": {},
   "outputs": [],
   "source": [
    "import json\n",
    "from pprint import pprint\n",
    "from random import shuffle\n",
    "\n",
    "data_dir = \"../data/4kx4k_dataset/\"\n",
    "\n",
    "with open(data_dir + 'bird_region_data4000x4000.json') as f:\n",
    "    bird_dict = json.load(f)\n",
    "\n",
    "with open(data_dir + 'carrot_region_data4000x4000.json') as f:\n",
    "    carrot_dict = json.load(f)\n",
    "\n",
    "with open(data_dir + 'mm_region_data4000x4000.json') as f:\n",
    "    mm_dict = json.load(f)"
   ]
  },
  {
   "cell_type": "code",
   "execution_count": 2,
   "metadata": {},
   "outputs": [
    {
     "name": "stdout",
     "output_type": "stream",
     "text": [
      "61 80 16\n"
     ]
    }
   ],
   "source": [
    "bird_key_list = []\n",
    "for key in bird_dict:\n",
    "\tbird_key_list.append(key)\n",
    "\n",
    "carrot_key_list = []\n",
    "for key in carrot_dict:\n",
    "\tcarrot_key_list.append(key)\n",
    "\n",
    "mm_key_list = []\n",
    "for key in mm_dict:\n",
    "\tmm_key_list.append(key)\n",
    "    \n",
    "print(len(bird_key_list), len(carrot_key_list), len(mm_key_list))\n",
    "\n",
    "shuffle(bird_key_list)\n",
    "keys_len = len(bird_key_list)\n",
    "test_idx = int(keys_len * 0.2)\n",
    "val_idx = int(keys_len * 0.8 * 0.2) + test_idx\n",
    "bird_test_keys = bird_key_list[:test_idx]\n",
    "bird_val_keys = bird_key_list[test_idx:val_idx]\n",
    "bird_train_keys = bird_key_list[val_idx:]\n",
    "\n",
    "shuffle(carrot_key_list)\n",
    "keys_len = len(carrot_key_list)\n",
    "test_idx = int(keys_len * 0.2)\n",
    "val_idx = int(keys_len * 0.8 * 0.2) + test_idx\n",
    "carrot_test_keys = carrot_key_list[:test_idx]\n",
    "carrot_val_keys = carrot_key_list[test_idx:val_idx]\n",
    "carrot_train_keys = carrot_key_list[val_idx:]\n",
    "\n",
    "shuffle(mm_key_list)\n",
    "keys_len = len(mm_key_list)\n",
    "test_idx = int(keys_len * 0.2)\n",
    "val_idx = int(keys_len * 0.8 * 0.2) + test_idx\n",
    "mm_test_keys = mm_key_list[:test_idx]\n",
    "mm_val_keys = mm_key_list[test_idx:val_idx]\n",
    "mm_train_keys = mm_key_list[val_idx:]\n",
    "\n",
    "bird_test_data = {k: bird_dict[k] for k in bird_test_keys}\n",
    "bird_val_data = {k: bird_dict[k] for k in bird_val_keys}\n",
    "bird_train_data = {k: bird_dict[k] for k in bird_train_keys}\n",
    "\n",
    "carrot_test_data = {k: carrot_dict[k] for k in carrot_test_keys}\n",
    "carrot_val_data = {k: carrot_dict[k] for k in carrot_val_keys}\n",
    "carrot_train_data = {k: carrot_dict[k] for k in carrot_train_keys}\n",
    "\n",
    "mm_test_data = {k: mm_dict[k] for k in mm_test_keys}\n",
    "mm_val_data = {k: mm_dict[k] for k in mm_val_keys}\n",
    "mm_train_data = {k: mm_dict[k] for k in mm_train_keys}\n",
    "\n",
    "test_data = {}\n",
    "test_data.update(bird_test_data)\n",
    "test_data.update(carrot_test_data)\n",
    "test_data.update(mm_test_data)\n",
    "\n",
    "val_data = {}\n",
    "val_data.update(bird_val_data)\n",
    "val_data.update(carrot_val_data)\n",
    "val_data.update(mm_val_data)\n",
    "\n",
    "train_data = {}\n",
    "train_data.update(bird_train_data)\n",
    "train_data.update(carrot_train_data)\n",
    "train_data.update(mm_train_data)\n",
    "\n",
    "with open(data_dir + 'via_region_data_test.json', 'w') as fp:\n",
    "    json.dump(test_data, fp)\n",
    "\n",
    "with open(data_dir + 'via_region_data_val.json', 'w') as fp:\n",
    "    json.dump(val_data, fp)\n",
    "\n",
    "with open(data_dir + 'via_region_data_train.json', 'w') as fp:\n",
    "    json.dump(train_data, fp)\n",
    "\n"
   ]
  },
  {
   "cell_type": "code",
   "execution_count": 3,
   "metadata": {},
   "outputs": [
    {
     "data": {
      "text/plain": [
       "(31, 23, 103)"
      ]
     },
     "execution_count": 3,
     "metadata": {},
     "output_type": "execute_result"
    }
   ],
   "source": [
    "len(test_data), len(val_data), len(train_data)"
   ]
  },
  {
   "cell_type": "code",
   "execution_count": null,
   "metadata": {},
   "outputs": [],
   "source": []
  }
 ],
 "metadata": {
  "kernelspec": {
   "display_name": "Python 3",
   "language": "python",
   "name": "python3"
  },
  "language_info": {
   "codemirror_mode": {
    "name": "ipython",
    "version": 3
   },
   "file_extension": ".py",
   "mimetype": "text/x-python",
   "name": "python",
   "nbconvert_exporter": "python",
   "pygments_lexer": "ipython3",
   "version": "3.5.2"
  }
 },
 "nbformat": 4,
 "nbformat_minor": 2
}
